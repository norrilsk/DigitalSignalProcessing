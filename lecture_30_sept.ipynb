{
 "cells": [
  {
   "cell_type": "code",
   "execution_count": 1,
   "metadata": {},
   "outputs": [],
   "source": [
    "import numpy as np\n",
    "import matplotlib.pyplot as plt\n",
    "from mpl_toolkits.mplot3d import Axes3D\n",
    "\n",
    "from ipywidgets import interact, interactive, fixed, interact_manual\n",
    "import ipywidgets as widgets\n"
   ]
  },
  {
   "cell_type": "markdown",
   "metadata": {},
   "source": [
    "# Задача №1"
   ]
  },
  {
   "cell_type": "markdown",
   "metadata": {},
   "source": [
    "Для сигнала $x(t)=A\\sin(2\\pi f_0 t)\\text{sgn}(t)$ написать выражение для комплексной огибающей."
   ]
  },
  {
   "cell_type": "code",
   "execution_count": 2,
   "metadata": {},
   "outputs": [],
   "source": [
    "def x1(t,A=1,f0=200):\n",
    "    return A*np.sin(2*np.pi*t*f0)*np.sign(t)"
   ]
  },
  {
   "cell_type": "code",
   "execution_count": 3,
   "metadata": {},
   "outputs": [],
   "source": [
    "def drawGraph(x,func,xlabel=\"\", ylabel=\"\",**arg):\n",
    "    plt.plot(x, func(x,**arg))\n",
    "    ax = plt.gca()\n",
    "    ax.spines['left'].set_position('center')\n",
    "    ax.spines['bottom'].set_position('center')\n",
    "    ax.spines['top'].set_visible(False)\n",
    "    ax.spines['right'].set_visible(False)\n",
    "    plt.ylabel(xlabel,fontsize=20,labelpad=-200,rotation=0)\n",
    "    plt.xlabel(ylabel,fontsize=20,labelpad=-145,rotation=0)\n",
    "    plt.show()"
   ]
  },
  {
   "cell_type": "code",
   "execution_count": 4,
   "metadata": {},
   "outputs": [],
   "source": [
    "def drawGraph3D(z,func,limits=1,xlabel=\"\", ylabel=\"\",zlabel =\"\",**arg):\n",
    "    fig = plt.figure()\n",
    "    ax = fig.gca(projection='3d')\n",
    "    xy = func(z,**arg)\n",
    "    x= np.real(xy)\n",
    "    y = np.imag(xy)\n",
    "    ax.plot(xs=x,ys=y,zs=z)\n",
    "    ax.set_xlabel(xlabel, fontsize=13)\n",
    "    ax.set_ylabel(ylabel, fontsize=13)\n",
    "    ax.set_zlabel(zlabel, fontsize=13)\n",
    "    ax.set_xlim(-limits,limits)\n",
    "    ax.set_ylim(-limits,limits)\n",
    "    plt.show()"
   ]
  },
  {
   "cell_type": "code",
   "execution_count": 5,
   "metadata": {},
   "outputs": [
    {
     "data": {
      "application/vnd.jupyter.widget-view+json": {
       "model_id": "180bf519d75d4d1ab66da3bc05d079ed",
       "version_major": 2,
       "version_minor": 0
      },
      "text/plain": [
       "interactive(children=(FloatSlider(value=1.0, description='A', max=2.0, min=0.5), FloatSlider(value=200.0, desc…"
      ]
     },
     "metadata": {},
     "output_type": "display_data"
    }
   ],
   "source": [
    "\n",
    "_ =interact(drawGraph,\n",
    "         xlabel=fixed(\"t\"),\n",
    "         ylabel=fixed(\"x(t)\"),\n",
    "         x=fixed(np.linspace(-10,10,1000)),\n",
    "         func=fixed(x1),\n",
    "         A= widgets.FloatSlider(value=1,\n",
    "                               min=0.5,\n",
    "                               max=2,\n",
    "                               step=0.1),\n",
    "        f0= widgets.FloatSlider(value=200,\n",
    "                               min=0,\n",
    "                               max=1000,\n",
    "                               step=100))\n",
    "\n"
   ]
  },
  {
   "cell_type": "markdown",
   "metadata": {},
   "source": [
    "Разложение сигнала на квадратурные составляющие:\n",
    "$x(t) = x_c (t) \\cos(2\\pi f_0 t) -  x_s (t) \\sin(2\\pi f_0 t) $\n",
    "\n",
    "где\n",
    "\n",
    "$x_c (t) = A(t)\\cos( \\phi (t))$\n",
    "\n",
    "$x_s (t) = A(t)\\sin( \\phi (t))$\n",
    "\n",
    "$A(t) = \\sqrt{x_c^2(t) + x_s^2(t)} $\n",
    "\n",
    "$\\phi(t) = \\arctan{\\frac{x_s(t)}{x_c(t)}}$"
   ]
  },
  {
   "cell_type": "markdown",
   "metadata": {},
   "source": [
    "в нашем случае\n",
    "\n",
    "$x_c (t) = 0$\n",
    "\n",
    "$x_s (t) = -A  \\text{sgn}(t)$\n",
    "\n",
    "$A(t) = x_s = -A  \\text{sgn}(t) $\n",
    "\n",
    "$\\phi = - \\frac{\\pi}{2}\\text{sgn}(t)$"
   ]
  },
  {
   "cell_type": "markdown",
   "metadata": {},
   "source": [
    "Комлексная огибающая:\n",
    "\n",
    "$\\gamma(t) = x_c(t) + jx_s(t)$\n",
    "\n",
    "В условиях задачи\n",
    "\n",
    "$\\gamma(t) = jx_s(t) = -jA\\text{sgn}(t)$"
   ]
  },
  {
   "cell_type": "code",
   "execution_count": 6,
   "metadata": {},
   "outputs": [],
   "source": [
    "def gamma(t,A =1):\n",
    "    return -A*np.sign(t)"
   ]
  },
  {
   "cell_type": "code",
   "execution_count": 7,
   "metadata": {},
   "outputs": [
    {
     "data": {
      "application/vnd.jupyter.widget-view+json": {
       "model_id": "25d3b9986fb84878ad5b3fcca2490095",
       "version_major": 2,
       "version_minor": 0
      },
      "text/plain": [
       "interactive(children=(FloatSlider(value=1.0, description='A', max=2.0, min=0.5), Output()), _dom_classes=('wid…"
      ]
     },
     "metadata": {},
     "output_type": "display_data"
    }
   ],
   "source": [
    "_ =interact(drawGraph,\n",
    "         xlabel=fixed(\"t\"),\n",
    "         ylabel=fixed(\"im γ(t)\"),\n",
    "         x=fixed(np.linspace(-10,10,1000)),\n",
    "         func=fixed(gamma),\n",
    "         A= widgets.FloatSlider(value=1,\n",
    "                               min=0.5,\n",
    "                               max=2,\n",
    "                               step=0.1))"
   ]
  },
  {
   "cell_type": "markdown",
   "metadata": {},
   "source": [
    "# Задача 2"
   ]
  },
  {
   "cell_type": "markdown",
   "metadata": {},
   "source": [
    "Сигнал $x(t)$ как при $t < 0$ , так и при $t>0$ представляет собой гармоническое колебание. В момент времени $t = 0$ фаза сигнала изменяется скачком на $\\pi$ Написать выржение для комплексной огибающей этого сигнала."
   ]
  },
  {
   "cell_type": "markdown",
   "metadata": {},
   "source": [
    "$x(t) = A\\sin(2\\pi f_0 t + \\phi_0 + \\pi\\theta(t)) $\n",
    "\n",
    "где $\\theta(t)$ - функция Хэвисайда"
   ]
  },
  {
   "cell_type": "code",
   "execution_count": 8,
   "metadata": {},
   "outputs": [],
   "source": [
    "def garm(t,A=1,f0=200, phi = 0):\n",
    "    return A*np.sin(2*np.pi*t*f0 +phi+ np.pi* np.heaviside(t,1))"
   ]
  },
  {
   "cell_type": "code",
   "execution_count": 9,
   "metadata": {},
   "outputs": [
    {
     "data": {
      "application/vnd.jupyter.widget-view+json": {
       "model_id": "312646b6cd034ec29fb4528b7507a46a",
       "version_major": 2,
       "version_minor": 0
      },
      "text/plain": [
       "interactive(children=(FloatSlider(value=1.0, description='A', max=2.0, min=0.5), FloatSlider(value=200.0, desc…"
      ]
     },
     "metadata": {},
     "output_type": "display_data"
    }
   ],
   "source": [
    "\n",
    "_ =interact(drawGraph,\n",
    "         xlabel=fixed(\"t\"),\n",
    "         ylabel=fixed(\"x(t)\"),\n",
    "         x=fixed(np.linspace(-10,10,1000)),\n",
    "         func=fixed(garm),\n",
    "         A= widgets.FloatSlider(value=1,\n",
    "                               min=0.5,\n",
    "                               max=2,\n",
    "                               step=0.1),\n",
    "         f0= widgets.FloatSlider(value=200,\n",
    "                               min=0,\n",
    "                               max=1000,\n",
    "                               step=100),\n",
    "          phi = widgets.FloatSlider(value=0,\n",
    "                               min=-np.pi,\n",
    "                               max=np.pi,\n",
    "                               step=0.1))\n"
   ]
  },
  {
   "cell_type": "markdown",
   "metadata": {},
   "source": [
    "$x_t = A\\sin(2\\pi f_0 t + \\phi_0 + \\pi\\theta(t)) = $\n",
    "\n",
    "$= -A\\text{sgn}(t)\\sin(2\\pi f_0 t + \\phi_0)   = $\n",
    "\n",
    "$=-A\\text{sgn}(t)(\\sin(2\\pi f_0 t)\\cos( \\phi_0)  +\\cos(2\\pi f_0 t)\\sin( \\phi_0)) $"
   ]
  },
  {
   "cell_type": "markdown",
   "metadata": {},
   "source": [
    "Квадратурные составляющие:\n",
    "\n",
    "$x_c = -A\\text{sgn}(t)\\sin( \\phi_0) $\n",
    "\n",
    "$x_s =-A\\text{sgn}(t)\\cos( \\phi_0) $"
   ]
  },
  {
   "cell_type": "markdown",
   "metadata": {},
   "source": [
    "Комплексная огибающая:\n",
    "\n",
    "$\\gamma(t) = -A\\text{sgn}(t)(\\sin(\\phi_0) - j\\cos(\\phi_0)) = jA\\text{sgn}(t)e^{j\\phi_0} $\n"
   ]
  },
  {
   "cell_type": "code",
   "execution_count": 10,
   "metadata": {},
   "outputs": [],
   "source": [
    "def gamma2(t,A=1,phi=0):\n",
    "    #print(-A*np.sign(t)*(np.sin(phi)-1j*np.cos(phi)))\n",
    "    return -A*np.sign(t)*(np.sin(phi)-1.j*np.cos(phi))"
   ]
  },
  {
   "cell_type": "code",
   "execution_count": 11,
   "metadata": {},
   "outputs": [
    {
     "data": {
      "application/vnd.jupyter.widget-view+json": {
       "model_id": "4a3c954d736d4b63bbafb21b81ce030b",
       "version_major": 2,
       "version_minor": 0
      },
      "text/plain": [
       "interactive(children=(IntSlider(value=1, description='limits', max=3, min=1), FloatSlider(value=1.0, descripti…"
      ]
     },
     "metadata": {},
     "output_type": "display_data"
    }
   ],
   "source": [
    "\n",
    "_ =interact(drawGraph3D,\n",
    "         xlabel=fixed(\"Re γ(t)\"),\n",
    "         ylabel=fixed(\"Im γ(t)\"),\n",
    "         zlabel=fixed(\"t\"),\n",
    "         z=fixed(np.linspace(-10,10,1000)),\n",
    "         func=fixed(gamma2),\n",
    "         limits = widgets.IntSlider(value=1,\n",
    "                               min=1,\n",
    "                               max=3,\n",
    "                               step=1),\n",
    "         A= widgets.FloatSlider(value=1,\n",
    "                               min=0.5,\n",
    "                               max=2,\n",
    "                               step=0.1),\n",
    "          phi = widgets.FloatSlider(value=0,\n",
    "                               min=-np.pi,\n",
    "                               max=np.pi,\n",
    "                               step=0.1))"
   ]
  },
  {
   "cell_type": "markdown",
   "metadata": {},
   "source": [
    "# Задача № 3"
   ]
  },
  {
   "cell_type": "code",
   "execution_count": null,
   "metadata": {},
   "outputs": [],
   "source": []
  },
  {
   "cell_type": "markdown",
   "metadata": {},
   "source": [
    "# Задача №4\n"
   ]
  },
  {
   "cell_type": "code",
   "execution_count": null,
   "metadata": {},
   "outputs": [],
   "source": []
  }
 ],
 "metadata": {
  "kernelspec": {
   "display_name": "Python 3",
   "language": "python",
   "name": "python3"
  },
  "language_info": {
   "codemirror_mode": {
    "name": "ipython",
    "version": 3
   },
   "file_extension": ".py",
   "mimetype": "text/x-python",
   "name": "python",
   "nbconvert_exporter": "python",
   "pygments_lexer": "ipython3",
   "version": "3.6.5"
  }
 },
 "nbformat": 4,
 "nbformat_minor": 2
}
