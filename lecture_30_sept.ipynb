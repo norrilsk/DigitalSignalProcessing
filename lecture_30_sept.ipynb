{
 "cells": [
  {
   "cell_type": "markdown",
   "metadata": {},
   "source": [
    "Причастные к созданию;\n",
    "\n",
    "Шкобин   Ю.Г. (M01-902)\n",
    "\n",
    "Черноног В.В. (M01-906)\n",
    "\n",
    "Трусов   А.В  (M01-901)"
   ]
  },
  {
   "cell_type": "code",
   "execution_count": 1,
   "metadata": {},
   "outputs": [],
   "source": [
    "import numpy as np\n",
    "import matplotlib.pyplot as plt\n",
    "from mpl_toolkits.mplot3d import Axes3D\n",
    "\n",
    "from ipywidgets import interact, interactive, fixed, interact_manual\n",
    "import ipywidgets as widgets\n",
    "\n",
    "import warnings\n",
    "warnings.filterwarnings('ignore')"
   ]
  },
  {
   "cell_type": "markdown",
   "metadata": {},
   "source": [
    "# Задача №1"
   ]
  },
  {
   "cell_type": "markdown",
   "metadata": {},
   "source": [
    "Для сигнала $x(t)=A\\sin(2\\pi f_0 t)\\text{sgn}(t)$ написать выражение для комплексной огибающей."
   ]
  },
  {
   "cell_type": "code",
   "execution_count": 2,
   "metadata": {},
   "outputs": [],
   "source": [
    "def x1(t,A=1,f0=200):\n",
    "    return A*np.sin(2*np.pi*t*f0)*np.sign(t)"
   ]
  },
  {
   "cell_type": "code",
   "execution_count": 3,
   "metadata": {},
   "outputs": [],
   "source": [
    "def drawGraph(x,func,xlabel=\"\", ylabel=\"\",**arg):\n",
    "    plt.plot(x, func(x,**arg))\n",
    "    ax = plt.gca()\n",
    "    ax.spines['left'].set_position('center')\n",
    "    ax.spines['bottom'].set_position('center')\n",
    "    ax.spines['top'].set_visible(False)\n",
    "    ax.spines['right'].set_visible(False)\n",
    "    plt.ylabel(xlabel,fontsize=20,labelpad=-200,rotation=0)\n",
    "    plt.xlabel(ylabel,fontsize=20,labelpad=-145,rotation=0)\n",
    "    plt.show()"
   ]
  },
  {
   "cell_type": "code",
   "execution_count": 4,
   "metadata": {},
   "outputs": [],
   "source": [
    "def drawGraph3D(z,func,limits=1,xlabel=\"\", ylabel=\"\",zlabel =\"\",**arg):\n",
    "    fig = plt.figure()\n",
    "    ax = fig.gca(projection='3d')\n",
    "    xy = func(z,**arg)\n",
    "    x= np.real(xy)\n",
    "    y = np.imag(xy)\n",
    "    ax.plot(xs=x,ys=y,zs=z)\n",
    "    ax.set_xlabel(xlabel, fontsize=13)\n",
    "    ax.set_ylabel(ylabel, fontsize=13)\n",
    "    ax.set_zlabel(zlabel, fontsize=13)\n",
    "    ax.set_xlim(-limits,limits)\n",
    "    ax.set_ylim(-limits,limits)\n",
    "    plt.show()"
   ]
  },
  {
   "cell_type": "code",
   "execution_count": 5,
   "metadata": {},
   "outputs": [
    {
     "data": {
      "application/vnd.jupyter.widget-view+json": {
       "model_id": "167ad28d23eb47da8a4f6da458b6e5a3",
       "version_major": 2,
       "version_minor": 0
      },
      "text/plain": [
       "interactive(children=(FloatSlider(value=1.0, description='A', max=2.0, min=0.5), FloatSlider(value=200.0, desc…"
      ]
     },
     "metadata": {},
     "output_type": "display_data"
    }
   ],
   "source": [
    "\n",
    "_ =interact(drawGraph,\n",
    "         xlabel=fixed(\"t\"),\n",
    "         ylabel=fixed(\"x(t)\"),\n",
    "         x=fixed(np.linspace(-10,10,1000)),\n",
    "         func=fixed(x1),\n",
    "         A= widgets.FloatSlider(value=1,\n",
    "                               min=0.5,\n",
    "                               max=2,\n",
    "                               step=0.1),\n",
    "        f0= widgets.FloatSlider(value=200,\n",
    "                               min=0,\n",
    "                               max=1000,\n",
    "                               step=100))\n",
    "\n"
   ]
  },
  {
   "cell_type": "markdown",
   "metadata": {},
   "source": [
    "Разложение сигнала на квадратурные составляющие:\n",
    "$x(t) = x_c (t) \\cos(2\\pi f_0 t) -  x_s (t) \\sin(2\\pi f_0 t) $\n",
    "\n",
    "где\n",
    "\n",
    "$x_c (t) = A(t)\\cos( \\phi (t))$\n",
    "\n",
    "$x_s (t) = A(t)\\sin( \\phi (t))$\n",
    "\n",
    "$A(t) = \\sqrt{x^2_c(t) + x^2_s(t)} $\n",
    "\n",
    "$\\phi(t) = \\arctan{\\frac{x_s(t)}{x_c(t)}}$"
   ]
  },
  {
   "cell_type": "markdown",
   "metadata": {},
   "source": [
    "в нашем случае\n",
    "\n",
    "$x_c (t) = 0$\n",
    "\n",
    "$x_s (t) = -A  \\text{sgn}(t)$\n",
    "\n",
    "$A(t) = x_s = -A  \\text{sgn}(t) $\n",
    "\n",
    "$\\phi = - \\frac{\\pi}{2}\\text{sgn}(t)$"
   ]
  },
  {
   "cell_type": "markdown",
   "metadata": {},
   "source": [
    "Комлексная огибающая:\n",
    "\n",
    "$\\gamma(t) = x_c(t) + jx_s(t)$\n",
    "\n",
    "В условиях задачи\n",
    "\n",
    "$\\gamma(t) = jx_s(t) = -jA\\text{sgn}(t)$"
   ]
  },
  {
   "cell_type": "code",
   "execution_count": 6,
   "metadata": {},
   "outputs": [],
   "source": [
    "def gamma(t,A =1):\n",
    "    return -A*np.sign(t)"
   ]
  },
  {
   "cell_type": "code",
   "execution_count": 7,
   "metadata": {},
   "outputs": [
    {
     "data": {
      "application/vnd.jupyter.widget-view+json": {
       "model_id": "367154da48384e87b25d3608729ad994",
       "version_major": 2,
       "version_minor": 0
      },
      "text/plain": [
       "interactive(children=(FloatSlider(value=1.0, description='A', max=2.0, min=0.5), Output()), _dom_classes=('wid…"
      ]
     },
     "metadata": {},
     "output_type": "display_data"
    }
   ],
   "source": [
    "_ =interact(drawGraph,\n",
    "         xlabel=fixed(\"t\"),\n",
    "         ylabel=fixed(\"im γ(t)\"),\n",
    "         x=fixed(np.linspace(-10,10,1000)),\n",
    "         func=fixed(gamma),\n",
    "         A= widgets.FloatSlider(value=1,\n",
    "                               min=0.5,\n",
    "                               max=2,\n",
    "                               step=0.1))"
   ]
  },
  {
   "cell_type": "markdown",
   "metadata": {},
   "source": [
    "# Задача 2"
   ]
  },
  {
   "cell_type": "markdown",
   "metadata": {},
   "source": [
    "Сигнал $x(t)$ как при $t < 0$ , так и при $t>0$ представляет собой гармоническое колебание. В момент времени $t = 0$ фаза сигнала изменяется скачком на $\\pi$ Написать выржение для комплексной огибающей этого сигнала."
   ]
  },
  {
   "cell_type": "markdown",
   "metadata": {},
   "source": [
    "$x(t) = A\\sin(2\\pi f_0 t + \\phi_0 + \\pi\\theta(t)) $\n",
    "\n",
    "где $\\theta(t)$ - функция Хэвисайда"
   ]
  },
  {
   "cell_type": "code",
   "execution_count": 8,
   "metadata": {},
   "outputs": [],
   "source": [
    "def garm(t,A=1,f0=200, phi = 0):\n",
    "    return A*np.sin(2*np.pi*t*f0 +phi+ np.pi* np.heaviside(t,1))"
   ]
  },
  {
   "cell_type": "code",
   "execution_count": 9,
   "metadata": {},
   "outputs": [
    {
     "data": {
      "application/vnd.jupyter.widget-view+json": {
       "model_id": "4699884bd97742b7bf572abacfb7e6df",
       "version_major": 2,
       "version_minor": 0
      },
      "text/plain": [
       "interactive(children=(FloatSlider(value=1.0, description='A', max=2.0, min=0.5), FloatSlider(value=200.0, desc…"
      ]
     },
     "metadata": {},
     "output_type": "display_data"
    }
   ],
   "source": [
    "\n",
    "_ =interact(drawGraph,\n",
    "         xlabel=fixed(\"t\"),\n",
    "         ylabel=fixed(\"x(t)\"),\n",
    "         x=fixed(np.linspace(-10,10,1000)),\n",
    "         func=fixed(garm),\n",
    "         A= widgets.FloatSlider(value=1,\n",
    "                               min=0.5,\n",
    "                               max=2,\n",
    "                               step=0.1),\n",
    "         f0= widgets.FloatSlider(value=200,\n",
    "                               min=0,\n",
    "                               max=1000,\n",
    "                               step=100),\n",
    "          phi = widgets.FloatSlider(value=0,\n",
    "                               min=-np.pi,\n",
    "                               max=np.pi,\n",
    "                               step=0.1))\n"
   ]
  },
  {
   "cell_type": "markdown",
   "metadata": {},
   "source": [
    "$x_t = A\\sin(2\\pi f_0 t + \\phi_0 + \\pi\\theta(t)) = $\n",
    "\n",
    "$= -A\\text{sgn}(t)\\sin(2\\pi f_0 t + \\phi_0)   = $\n",
    "\n",
    "$=-A\\text{sgn}(t)(\\sin(2\\pi f_0 t)\\cos( \\phi_0)  +\\cos(2\\pi f_0 t)\\sin( \\phi_0)) $"
   ]
  },
  {
   "cell_type": "markdown",
   "metadata": {},
   "source": [
    "Квадратурные составляющие:\n",
    "\n",
    "$x_c = -A\\text{sgn}(t)\\sin( \\phi_0) $\n",
    "\n",
    "$x_s =-A\\text{sgn}(t)\\cos( \\phi_0) $"
   ]
  },
  {
   "cell_type": "markdown",
   "metadata": {},
   "source": [
    "Комплексная огибающая:\n",
    "\n",
    "$\\gamma(t) = -A\\text{sgn}(t)(\\sin(\\phi_0) - j\\cos(\\phi_0)) = jA\\text{sgn}(t)e^{j\\phi_0} $\n"
   ]
  },
  {
   "cell_type": "code",
   "execution_count": 10,
   "metadata": {},
   "outputs": [],
   "source": [
    "def gamma2(t,A=1,phi=0):\n",
    "    #print(-A*np.sign(t)*(np.sin(phi)-1j*np.cos(phi)))\n",
    "    return -A*np.sign(t)*(np.sin(phi)-1.j*np.cos(phi))"
   ]
  },
  {
   "cell_type": "code",
   "execution_count": 11,
   "metadata": {},
   "outputs": [
    {
     "data": {
      "application/vnd.jupyter.widget-view+json": {
       "model_id": "283934505f8043358fb832a5b17b84dc",
       "version_major": 2,
       "version_minor": 0
      },
      "text/plain": [
       "interactive(children=(IntSlider(value=1, description='limits', max=3, min=1), FloatSlider(value=1.0, descripti…"
      ]
     },
     "metadata": {},
     "output_type": "display_data"
    }
   ],
   "source": [
    "\n",
    "_ =interact(drawGraph3D,\n",
    "         xlabel=fixed(\"Re γ(t)\"),\n",
    "         ylabel=fixed(\"Im γ(t)\"),\n",
    "         zlabel=fixed(\"t\"),\n",
    "         z=fixed(np.linspace(-10,10,1000)),\n",
    "         func=fixed(gamma2),\n",
    "         limits = widgets.IntSlider(value=1,\n",
    "                               min=1,\n",
    "                               max=3,\n",
    "                               step=1),\n",
    "         A= widgets.FloatSlider(value=1,\n",
    "                               min=0.5,\n",
    "                               max=2,\n",
    "                               step=0.1),\n",
    "          phi = widgets.FloatSlider(value=0,\n",
    "                               min=-np.pi,\n",
    "                               max=np.pi,\n",
    "                               step=0.1))"
   ]
  },
  {
   "cell_type": "markdown",
   "metadata": {},
   "source": [
    "# Задача № 3"
   ]
  },
  {
   "cell_type": "markdown",
   "metadata": {},
   "source": [
    "Дано:\n",
    "\n",
    "\n",
    "$x_c(t), x_s(t) \\leftrightarrow  x_A(t) : ПФ[x_A(t)] = 0, f \\leq 0 $\n",
    "\n",
    "Показать:\n",
    "\n",
    "\n",
    "$x_c(t), x_s(t)$ - сопряжены по гильберту"
   ]
  },
  {
   "cell_type": "markdown",
   "metadata": {},
   "source": [
    "Известно разложение сигнала на квадратурную составляющую:\n",
    "\n",
    "$x(t) = x_c(t)\\cos(2\\pi f_0 t ) - x_s(t)\\sin(2\\pi f_0 t )$\n",
    "\n",
    "Представление сигнала с помощью комплексной огибающей:\n",
    "\n",
    "$x(t) = x(t) = Re[\\gamma(t) \\exp(j2\\pi f_0 t)]$\n",
    "\n",
    "где\n",
    "\n",
    "$\\gamma(t) =  x_c(t) +jx_s(t)$"
   ]
  },
  {
   "cell_type": "markdown",
   "metadata": {},
   "source": [
    "Согласно построению аналитического сигнала с положительными частотами :\n",
    "\n",
    "$x_A(t_ = x(t) +jx_r(t)$\n",
    "\n",
    "$x_Г(t) =IM[\\gamma(t) \\exp(j2\\pi f_0 t)]$"
   ]
  },
  {
   "cell_type": "markdown",
   "metadata": {},
   "source": [
    "$x_A(t) = \\gamma(t) \\exp(j2\\pi f_0 t) = $\n",
    "\n",
    "$= x_c (t) \\cos(2\\pi f_0 t) -  x_s (t) \\sin(2\\pi f_0 t)  + j(x_s (t) \\cos(2\\pi f_0 t) +  x_c (t) \\sin(2\\pi f_0 t) )$"
   ]
  },
  {
   "cell_type": "markdown",
   "metadata": {},
   "source": [
    "Значит\n",
    "\n",
    "\n",
    "$x_Г(t) = x_s (t) \\cos(2\\pi f_0 t) +  x_c (t) \\sin(2\\pi f_0 t)$\n",
    "\n",
    "Выразим  $x_s(t)$ и $x_c(t)$ через $x(t)$ и $x_Г(t)$\n",
    "\n",
    "$x_c(t) = x (t) \\cos(2\\pi f_0 t) +  x_Г (t) \\sin(2\\pi f_0 t)$\n",
    "\n",
    "$x_s(t) = x_Г (t) \\cos(2\\pi f_0 t) -  x(t) \\sin(2\\pi f_0 t)$"
   ]
  },
  {
   "cell_type": "markdown",
   "metadata": {},
   "source": [
    "Найдем спектральные плотности $x_s(t) и x_c(t)$\n",
    "\n",
    "$ПФ[x_c(t)] = \\int_{-\\infty}^\\infty x(t) \\cos(2\\pi f_0 t) \\exp(-j2\\pi f_0 t) dx +  \\int_{-\\infty}^\\infty x_Г(t) \\sin(2\\pi f_0 t) \\exp(-j2\\pi f_0 t) dx $\n",
    "\n",
    "Применив теорему о сдвиге и формулу Эйлера получим \n",
    "\n",
    "$ПФ[x_c(t)] = \\dfrac{1}{2}\\left(X(f-f_0) + X(f+f_0) \\right) +  \\dfrac{1}{2j}\\left(X_Г(f-f_0) - X_Г(f+f_0) \\right)$\n",
    "\n",
    "\n",
    "Аналогично\n",
    "\n",
    "\n",
    "$ПФ[x_s(t)] = \\int_{-\\infty}^\\infty x_Г(t) \\cos(2\\pi f_0 t) \\exp(-j2\\pi f_0 t) dx -  \\int_{-\\infty}^\\infty x(t) \\sin(2\\pi f_0 t) \\exp(-j2\\pi f_0 t) dx $\n",
    "\n",
    "$ПФ[x_s(t)] = \\dfrac{1}{2}\\left(X_Г(f-f_0) + X_Г(f+f_0) \\right) -  \\dfrac{1}{2j}\\left(X(f-f_0) - X(f+f_0) \\right)$"
   ]
  },
  {
   "cell_type": "markdown",
   "metadata": {},
   "source": [
    "Известно для аналитического сигнала:\n",
    "\n",
    "$X_Г(t) = -jX(f)\\text{sgn}(f)$\n",
    "\n",
    "Ведем обозначения\n",
    "\n",
    "\\begin{equation*}\n",
    "X_+(f) = \n",
    " \\begin{cases}\n",
    "   X(f) &  f \\geq 0  \\\\\n",
    "   0 &  f < 0 \n",
    " \\end{cases}\n",
    "\\end{equation*}\n",
    "\n",
    "\\begin{equation*}\n",
    "X_-(f) = \n",
    " \\begin{cases}\n",
    "   0 &  f \\geq 0  \\\\\n",
    "   X(f) &  f < 0 \n",
    " \\end{cases}\n",
    "\\end{equation*}\n",
    "\n",
    "\n",
    "Тогда\n",
    "\n",
    "\n",
    "$ПФ[x_s(t)] =  -j(X_+(f+f_0) - X_-(f-f_0))$\n",
    "\n",
    "$ПФ[x_c(t)] =  X_+(f+f_0) + X_-(f-f_0))$\n",
    "\n",
    "\n",
    "\n",
    "Заметим, что так как $X_A(t)$ имеет только положительные частоты, то x(t) имеет финитный спектр причем $f_0 > f_B $\n",
    "\n",
    "Тогда замечаем\n",
    "\n",
    "$j\\,\\text{sgn}(f) \\,ПФ[x_c(t)] = j \\, \\text{sgn}(f) \\,( X_+(f+f_0) + X_-(f-f_0))  = \\,ПФ[x_s(t)] $\n",
    "\n",
    "Значит\n",
    "\n",
    "$ПФ[x_c(t)] \\leftrightarrow X_Г(f) $      $ПФ[x_s(t)]$\n",
    "\n",
    "то есть\n",
    "\n",
    "$[x_s(t)]_Г = x_c(t)$"
   ]
  },
  {
   "cell_type": "markdown",
   "metadata": {},
   "source": [
    "# Задача №4\n"
   ]
  },
  {
   "cell_type": "markdown",
   "metadata": {},
   "source": [
    "Дано:\n",
    "\n",
    "$x(t) = A_1\\cos(\\omega_1 t) + A_2\\cos(\\omega_2 t)$\n",
    "\n",
    "Найти:\n",
    "\n",
    "$x_Г(t) - ?$\n",
    "\n",
    "$x_A(t) - ?$\n",
    "\n",
    "$A(t) - ?$\n",
    "\n",
    "$\\phi(t) - ?$\n",
    "\n",
    "$f(t) - ?$"
   ]
  },
  {
   "cell_type": "code",
   "execution_count": 12,
   "metadata": {},
   "outputs": [],
   "source": [
    "def x4(t,A1=1,w1=2,A2=1,w2=2):\n",
    "    return A1*np.cos(w1*t)+ A2*np.sin(w2*t)"
   ]
  },
  {
   "cell_type": "code",
   "execution_count": 13,
   "metadata": {},
   "outputs": [
    {
     "data": {
      "application/vnd.jupyter.widget-view+json": {
       "model_id": "086d17552e1248a1ab2464594d5b883e",
       "version_major": 2,
       "version_minor": 0
      },
      "text/plain": [
       "interactive(children=(FloatSlider(value=1.0, description='A1', max=2.0, min=0.2), FloatSlider(value=1.0, descr…"
      ]
     },
     "metadata": {},
     "output_type": "display_data"
    }
   ],
   "source": [
    "_ =interact(drawGraph,\n",
    "         xlabel=fixed(\"t\"),\n",
    "         ylabel=fixed(\"x(t)\"),\n",
    "         x=fixed(np.linspace(-10,10,1000)),\n",
    "         func=fixed(x4),\n",
    "         A1= widgets.FloatSlider(value=1,\n",
    "                               min=0.2,\n",
    "                               max=2,\n",
    "                               step=0.1),\n",
    "         A2= widgets.FloatSlider(value=1,\n",
    "                               min=0.2,\n",
    "                               max=2,\n",
    "                               step=0.1),\n",
    "         w1= widgets.FloatSlider(value=2,\n",
    "                               min=0,\n",
    "                               max=20,\n",
    "                               step=0.5),\n",
    "        w2= widgets.FloatSlider(value=2,\n",
    "                               min=0,\n",
    "                               max=20,\n",
    "                               step=0.5))\n"
   ]
  },
  {
   "cell_type": "markdown",
   "metadata": {},
   "source": [
    "Известно:\n",
    "$\\Gamma(\\cos(\\omega t)) = \\sin(\\omega t)\\text{sgn}(\\omega) $"
   ]
  },
  {
   "cell_type": "markdown",
   "metadata": {},
   "source": [
    "Для определенности $\\omega_1 > \\omega_2 >0$\n",
    "\n",
    "\n",
    "Тогда в силу линейности преобразования Гильберта:\n",
    "\n",
    "$X_Г(t) = A_1 \\sin(\\omega_1 t) + A_2 \\sin(\\omega_2 t)$\n",
    "\n",
    "Соответственно:\n",
    "\n",
    "$X_A(t) = x(t) + jx_Г (t)  = $\n",
    "\n",
    "$=A_1 \\cos(\\omega_1 t) + A_2 \\cos(\\omega_2 t)+j(A_1 \\sin(\\omega_1 t) + A_2 \\sin(\\omega_2 t)) =$\n",
    "\n",
    "$= A(t) \\exp(j\\phi(t))$\n",
    "\n",
    "\n"
   ]
  },
  {
   "cell_type": "markdown",
   "metadata": {},
   "source": [
    "$A(t) = \\sqrt{x^2(t)+ x^2_Г(t)}$\n",
    "\n",
    "$\\phi(t) = \\arctan\\left(\\dfrac{x_Г(t)}{x(t)}\\right)$\n",
    "\n",
    "$f(t) = \\dfrac{1}{2\\pi}\\dfrac{d\\phi(t)}{dt}$\n",
    "\n"
   ]
  },
  {
   "cell_type": "markdown",
   "metadata": {},
   "source": [
    "В условиях задачи:\n",
    "\n",
    "\n",
    "$A(t) = \\sqrt{A_1^2 +A_2^2 + 2 A_1 A_2\\cos((\\omega_1 - \\omega_2)t)}$\n",
    "\n",
    "$\\phi(t) = \\arctan\\left(\\dfrac{A_1 \\sin(\\omega_1 t) + A_2 \\sin(\\omega_2 t)}{A_1\\cos(\\omega_1 t) + A_2 \\cos(\\omega_2 t)}\\right)$\n",
    "\n",
    "$f(t) = \\dfrac{1}{2\\pi}\\dfrac{A_1^2\\omega_1 +A_2^2\\omega_2 +A_1 A_2(\\omega_1+ \\omega_2)\\cos((\\omega_1-\\omega_2)t)}{A_1^2 +A_2^2 + 2 A_1 A_2\\cos((\\omega_1 - \\omega_2)t)}$"
   ]
  },
  {
   "cell_type": "code",
   "execution_count": 14,
   "metadata": {},
   "outputs": [],
   "source": [
    "def A4(t,A1,A2,w1,w2):\n",
    "    return np.sqrt(A1**2+ A2**2 + 2*A1*A2*np.cos((w1-w2)*t))\n",
    "\n",
    "def phi4(t,A1,A2,w1,w2):\n",
    "    return np.arctan((A1*np.sin(w1*t) + A2*np.sin(w2*t))/\n",
    "                     (A1*np.cos(w1*t) + A2*np.cos(w2*t)))\n",
    "\n",
    "def f4(t,A1,A2,w1,w2):\n",
    "    return 1/(2*np.pi)* \\\n",
    "            (A1**2*w1 + A2**2*w2 +A1*A2*(w1+w2)*np.cos((w1-w2)*t))/ \\\n",
    "            (A1**2+ A2**2 + 2*A1*A2*np.cos((w1-w2)*t))"
   ]
  },
  {
   "cell_type": "code",
   "execution_count": 15,
   "metadata": {},
   "outputs": [
    {
     "data": {
      "application/vnd.jupyter.widget-view+json": {
       "model_id": "edcecfb2ffb049a1b831fd55b1e6f309",
       "version_major": 2,
       "version_minor": 0
      },
      "text/plain": [
       "interactive(children=(FloatSlider(value=1.0, description='A1', max=2.0, min=0.2), FloatSlider(value=1.0, descr…"
      ]
     },
     "metadata": {},
     "output_type": "display_data"
    }
   ],
   "source": [
    "_ =interact(drawGraph,\n",
    "         xlabel=fixed(\"t\"),\n",
    "         ylabel=fixed(\"A(t)\"),\n",
    "         x=fixed(np.linspace(-10,10,1000)),\n",
    "         func=fixed(A4),\n",
    "         A1= widgets.FloatSlider(value=1,\n",
    "                               min=0.2,\n",
    "                               max=2,\n",
    "                               step=0.1),\n",
    "         A2= widgets.FloatSlider(value=1,\n",
    "                               min=0.2,\n",
    "                               max=2,\n",
    "                               step=0.1),\n",
    "         w1= widgets.FloatSlider(value=5,\n",
    "                               min=0,\n",
    "                               max=20,\n",
    "                               step=0.5),\n",
    "        w2= widgets.FloatSlider(value=2,\n",
    "                               min=0,\n",
    "                               max=20,\n",
    "                               step=0.5))\n"
   ]
  },
  {
   "cell_type": "code",
   "execution_count": 16,
   "metadata": {},
   "outputs": [
    {
     "data": {
      "application/vnd.jupyter.widget-view+json": {
       "model_id": "fc80d6808315426fb9ff3f477fd6336f",
       "version_major": 2,
       "version_minor": 0
      },
      "text/plain": [
       "interactive(children=(FloatSlider(value=1.0, description='A1', max=2.0, min=0.2), FloatSlider(value=1.0, descr…"
      ]
     },
     "metadata": {},
     "output_type": "display_data"
    }
   ],
   "source": [
    "_ =interact(drawGraph,\n",
    "         xlabel=fixed(\"t\"),\n",
    "         ylabel=fixed(\"ϕ(t)\"),\n",
    "         x=fixed(np.linspace(-10,10,1000)),\n",
    "         func=fixed(phi4),\n",
    "         A1= widgets.FloatSlider(value=1,\n",
    "                               min=0.2,\n",
    "                               max=2,\n",
    "                               step=0.1),\n",
    "         A2= widgets.FloatSlider(value=1,\n",
    "                               min=0.2,\n",
    "                               max=2,\n",
    "                               step=0.1),\n",
    "         w1= widgets.FloatSlider(value=5,\n",
    "                               min=0,\n",
    "                               max=20,\n",
    "                               step=0.5),\n",
    "        w2= widgets.FloatSlider(value=2,\n",
    "                               min=0,\n",
    "                               max=20,\n",
    "                               step=0.5))"
   ]
  },
  {
   "cell_type": "code",
   "execution_count": 17,
   "metadata": {},
   "outputs": [
    {
     "data": {
      "application/vnd.jupyter.widget-view+json": {
       "model_id": "c409ee67fe19451c9240c068b4887287",
       "version_major": 2,
       "version_minor": 0
      },
      "text/plain": [
       "interactive(children=(FloatSlider(value=1.0, description='A1', max=2.0, min=0.2), FloatSlider(value=2.0, descr…"
      ]
     },
     "metadata": {},
     "output_type": "display_data"
    }
   ],
   "source": [
    "_ =interact(drawGraph,\n",
    "         xlabel=fixed(\"t\"),\n",
    "         ylabel=fixed(\"f(t)\"),\n",
    "         x=fixed(np.linspace(-10,10,1000)),\n",
    "         func=fixed(f4),\n",
    "         A1= widgets.FloatSlider(value=1,\n",
    "                               min=0.2,\n",
    "                               max=2,\n",
    "                               step=0.1),\n",
    "         A2= widgets.FloatSlider(value=2,\n",
    "                               min=0.2,\n",
    "                               max=2,\n",
    "                               step=0.1),\n",
    "         w1= widgets.FloatSlider(value=5,\n",
    "                               min=0,\n",
    "                               max=20,\n",
    "                               step=0.5),\n",
    "        w2= widgets.FloatSlider(value=2,\n",
    "                               min=0,\n",
    "                               max=20,\n",
    "                               step=0.5))"
   ]
  },
  {
   "cell_type": "markdown",
   "metadata": {},
   "source": [
    "# Задача №5\n",
    "\n",
    "Дано\n",
    "\n",
    "$x(t) \\leftrightarrow X(\\omega)$ - финитный\n",
    "\n",
    "Найти \n",
    "\n",
    "$x_A(t) - ?$\n",
    "\n",
    "$\\mathop{\\mathrm{Re}}\\nolimits[x_a(t)] - ?$\n",
    "\n",
    "$\\mathop{\\mathrm{Im}}\\nolimits[x_a(t)] - ?$\n",
    "\n"
   ]
  },
  {
   "cell_type": "code",
   "execution_count": 18,
   "metadata": {},
   "outputs": [],
   "source": [
    "def x5(t,wb,X0):\n",
    "    return (-np.abs(X0/wb*t)+X0) *(np.abs(t) <  wb)\n"
   ]
  },
  {
   "cell_type": "code",
   "execution_count": 19,
   "metadata": {},
   "outputs": [
    {
     "data": {
      "application/vnd.jupyter.widget-view+json": {
       "model_id": "3d152cbe65b1427690adad252bc430cb",
       "version_major": 2,
       "version_minor": 0
      },
      "text/plain": [
       "interactive(children=(Output(),), _dom_classes=('widget-interact',))"
      ]
     },
     "metadata": {},
     "output_type": "display_data"
    }
   ],
   "source": [
    "_ =interact(drawGraph,\n",
    "         xlabel=fixed(\"ω\"),\n",
    "         ylabel=fixed(\"|X(ω)|\"),\n",
    "         x=fixed(np.linspace(-1,1,100)),\n",
    "         func=fixed(x5),\n",
    "         wb= fixed(1),\n",
    "         X0= fixed(2))"
   ]
  },
  {
   "cell_type": "markdown",
   "metadata": {},
   "source": [
    "Решениие:\n",
    "\n",
    "Cчитаем, что у $x(\\omega) $ фаза постоянная и равна 0\n",
    "\n",
    "У соответствующего аналитического сигнала модуль спектральной плотности будет иметь следующий вид:\n",
    "\n",
    "\\begin{equation*}\n",
    "X_A(f) = \n",
    " \\begin{cases}\n",
    "   2X(f) &  f \\geq 0  \\\\\n",
    "   0 &  f < 0 \n",
    " \\end{cases}\n",
    "\\end{equation*}"
   ]
  },
  {
   "cell_type": "code",
   "execution_count": 20,
   "metadata": {},
   "outputs": [],
   "source": [
    "def x5_1(t,wb,X0):\n",
    "    return 2*(-np.abs(X0/wb*t)+X0) *(np.abs(t) <  wb)"
   ]
  },
  {
   "cell_type": "code",
   "execution_count": 21,
   "metadata": {},
   "outputs": [
    {
     "data": {
      "application/vnd.jupyter.widget-view+json": {
       "model_id": "1d67146c16124d3db47d0962b282abba",
       "version_major": 2,
       "version_minor": 0
      },
      "text/plain": [
       "interactive(children=(Output(),), _dom_classes=('widget-interact',))"
      ]
     },
     "metadata": {},
     "output_type": "display_data"
    }
   ],
   "source": [
    "_ =interact(drawGraph,\n",
    "         xlabel=fixed(\"ω\"),\n",
    "         ylabel=fixed(\"|X(ω)|\"),\n",
    "         x=fixed(np.linspace(0,1,100)),\n",
    "         func=fixed(x5_1),\n",
    "         wb= fixed(1),\n",
    "         X0= fixed(2))"
   ]
  },
  {
   "cell_type": "markdown",
   "metadata": {},
   "source": [
    "$ x_a(t) = \\text{ОПФ}[X_A(f)] =  $\n",
    "$\\frac{1}{2 \\pi} $ \n",
    "$\\int_{0}^{\\omega_B}\\nolimits$ $2X_0 (1- \\frac{\\omega}{\\omega_B} ) \\exp({j\\omega t}) d\\omega $\n",
    "\n",
    "$ x_a(t) = \\dfrac{\\omega_B X_0}{2 \\pi} \\text{sinc}^2\\left(\\dfrac{\\omega_B t}{2}\\right) + j\\dfrac{X_0}{\\pi t} (1- \\text{sinc}(\\omega_B t))$"
   ]
  },
  {
   "cell_type": "code",
   "execution_count": 22,
   "metadata": {},
   "outputs": [],
   "source": [
    "def x5_3(t,X0,wb):\n",
    "    return wb*X0/(2* np.pi)*(np.sinc(wb*t/2))**2 +1.j*X0/(np.pi*t)*(1-np.sinc(wb*t))"
   ]
  },
  {
   "cell_type": "code",
   "execution_count": 23,
   "metadata": {},
   "outputs": [
    {
     "data": {
      "application/vnd.jupyter.widget-view+json": {
       "model_id": "bb97f6ba0df64e73ae1dc306f1742096",
       "version_major": 2,
       "version_minor": 0
      },
      "text/plain": [
       "interactive(children=(FloatSlider(value=2.0, description='limits', max=10.0, min=0.5, step=1.5), FloatSlider(v…"
      ]
     },
     "metadata": {},
     "output_type": "display_data"
    }
   ],
   "source": [
    "_ =interact(drawGraph3D,\n",
    "         xlabel=fixed(\"Re x_a(t)\"),\n",
    "         ylabel=fixed(\"Im x_a(t)\"),\n",
    "         zlabel=fixed(\"t\"),\n",
    "         z=fixed(np.linspace(-10,10,10000)),\n",
    "         func=fixed(x5_3),\n",
    "         limits = widgets.FloatSlider(value=2,\n",
    "                               min=0.5,\n",
    "                               max=10,\n",
    "                               step=1.5),\n",
    "         X0 = widgets.FloatSlider(value=1,\n",
    "                               min=0.5,\n",
    "                               max=5,\n",
    "                               step=0.5),\n",
    "         wb= widgets.FloatSlider(value=1,\n",
    "                               min=0.1,\n",
    "                               max=3,\n",
    "                               step=0.3))"
   ]
  },
  {
   "cell_type": "code",
   "execution_count": 24,
   "metadata": {},
   "outputs": [],
   "source": [
    "def x5_3_re(t,X0,wb):\n",
    "    return wb*X0/(2* np.pi)*(np.sinc(wb*t/2))**2 \n",
    "def x5_3_im(t,X0,wb):\n",
    "    return X0/(np.pi*t)*(1-np.sinc(wb*t))"
   ]
  },
  {
   "cell_type": "code",
   "execution_count": 25,
   "metadata": {},
   "outputs": [
    {
     "data": {
      "application/vnd.jupyter.widget-view+json": {
       "model_id": "f39865f4efee408aa4e9953fb0d1cd78",
       "version_major": 2,
       "version_minor": 0
      },
      "text/plain": [
       "interactive(children=(FloatSlider(value=1.0, description='X0', max=5.0, min=0.5, step=0.5), FloatSlider(value=…"
      ]
     },
     "metadata": {},
     "output_type": "display_data"
    }
   ],
   "source": [
    "_ =interact(drawGraph,\n",
    "         xlabel=fixed(\"t\"),\n",
    "         ylabel=fixed(\"X(t)\"),\n",
    "         x=fixed(np.linspace(-10,10,1000)),\n",
    "         func=fixed(x5_3_re),\n",
    "          X0 = widgets.FloatSlider(value=1,\n",
    "                               min=0.5,\n",
    "                               max=5,\n",
    "                               step=0.5),\n",
    "         wb= widgets.FloatSlider(value=1,\n",
    "                               min=0.1,\n",
    "                               max=3,\n",
    "                               step=0.3))"
   ]
  },
  {
   "cell_type": "code",
   "execution_count": 26,
   "metadata": {},
   "outputs": [
    {
     "data": {
      "application/vnd.jupyter.widget-view+json": {
       "model_id": "ffa2c4c63f8348e8beda375bc8221c21",
       "version_major": 2,
       "version_minor": 0
      },
      "text/plain": [
       "interactive(children=(FloatSlider(value=1.0, description='X0', max=5.0, min=0.5, step=0.5), FloatSlider(value=…"
      ]
     },
     "metadata": {},
     "output_type": "display_data"
    }
   ],
   "source": [
    "_ =interact(drawGraph,\n",
    "         xlabel=fixed(\"t\"),\n",
    "         ylabel=fixed(\"X(t)\"),\n",
    "         x=fixed(np.linspace(-10,10,1000)),\n",
    "         func=fixed(x5_3_im),\n",
    "          X0 = widgets.FloatSlider(value=1,\n",
    "                               min=0.5,\n",
    "                               max=5,\n",
    "                               step=0.5),\n",
    "         wb= widgets.FloatSlider(value=1,\n",
    "                               min=0.1,\n",
    "                               max=3,\n",
    "                               step=0.3))"
   ]
  },
  {
   "cell_type": "markdown",
   "metadata": {},
   "source": [
    "# Задача №6\n",
    "\n",
    "Дано:\n",
    "\n",
    "$x(t) \\leftrightarrow X(f)$\n",
    "\n",
    "Найти:\n",
    "\n",
    "$x_A(t) - ?$\n",
    "\n",
    "Решение:\n",
    "\n",
    "Считаем, что $\\text{arg}X(f) =0 $; $f_0 = \\frac{f_1+f_2}{2}$\n",
    "\n",
    "\n",
    "У соответствующего аналитического сигнала спектральная плотность будет иметь вид\n",
    "\\begin{equation*}\n",
    "X_A(f) = \n",
    " \\begin{cases}\n",
    "   2X(f) &  f \\geq 0  \\\\\n",
    "   0 &  f < 0 \n",
    " \\end{cases}\n",
    "\\end{equation*}\n",
    "\n",
    "тогда \n",
    "\n",
    "$x_A(t) = ОПФ[X_A(f)] = \\int_{f_1}^{f_2}2X_0 \\exp(j2\\pi ft) df = \\dfrac{2X_0}{\\pi t} \\exp(j 2 \\pi f_0 t) \\sin(2 \\pi (f_2 -f_1) t)  $\n",
    "\n",
    "$x_A(t) = 4X_0 \\Delta f \\text{sinc}(2 \\pi \\Delta f t ) \\cos(2 \\pi f_0 t) + j 4 X_0 \\Delta f \\text{sinc}(2 \\pi \\Delta f t) \\sin(2 \\pi f_0 t)$"
   ]
  },
  {
   "cell_type": "code",
   "execution_count": 27,
   "metadata": {},
   "outputs": [],
   "source": [
    "def x6_1(t,f1,f2, X0):\n",
    "    return (X0) *(((t-f2) <  0) * ((f1-t)  <0))"
   ]
  },
  {
   "cell_type": "code",
   "execution_count": 28,
   "metadata": {},
   "outputs": [
    {
     "data": {
      "application/vnd.jupyter.widget-view+json": {
       "model_id": "5a7a37a304d0469d9465287653177f24",
       "version_major": 2,
       "version_minor": 0
      },
      "text/plain": [
       "interactive(children=(Output(),), _dom_classes=('widget-interact',))"
      ]
     },
     "metadata": {},
     "output_type": "display_data"
    }
   ],
   "source": [
    "_ =interact(drawGraph,\n",
    "         xlabel=fixed(\"f\"),\n",
    "         ylabel=fixed(\"|X(f)|\"),\n",
    "         x=fixed(np.linspace(0,5,100)),\n",
    "         func=fixed(x6_1),\n",
    "         f1= fixed(1),\n",
    "         f2= fixed(2),\n",
    "         X0 = fixed(1))"
   ]
  },
  {
   "cell_type": "code",
   "execution_count": 29,
   "metadata": {},
   "outputs": [],
   "source": [
    "def x6_2(t,f1,f2,X0):\n",
    "    return 2*X0/(np.pi *t)*np.exp(1.j * 2 *(f2+ f1)/2*t)*np.sin(2*np.pi*(f2- f1)/2 *t )"
   ]
  },
  {
   "cell_type": "code",
   "execution_count": 30,
   "metadata": {},
   "outputs": [
    {
     "data": {
      "application/vnd.jupyter.widget-view+json": {
       "model_id": "33b8cb162a354cebb70c5065c1cfed0c",
       "version_major": 2,
       "version_minor": 0
      },
      "text/plain": [
       "interactive(children=(FloatSlider(value=2.0, description='limits', max=10.0, min=0.5, step=1.5), FloatSlider(v…"
      ]
     },
     "metadata": {},
     "output_type": "display_data"
    }
   ],
   "source": [
    "_ =interact(drawGraph3D,\n",
    "         xlabel=fixed(\"Re x_a(t)\"),\n",
    "         ylabel=fixed(\"Im x_a(t)\"),\n",
    "         zlabel=fixed(\"t\"),\n",
    "         z=fixed(np.linspace(-10,10,10000)),\n",
    "         func=fixed(x6_2),\n",
    "         limits = widgets.FloatSlider(value=2,\n",
    "                               min=0.5,\n",
    "                               max=10,\n",
    "                               step=1.5),\n",
    "         f1 = widgets.FloatSlider(value=3,\n",
    "                               min=1,\n",
    "                               max=5,\n",
    "                               step=1),\n",
    "         f2= widgets.FloatSlider(value=4,\n",
    "                               min=2,\n",
    "                               max= 6,\n",
    "                               step=1),\n",
    "         X0= widgets.FloatSlider(value=1,\n",
    "                               min=1,\n",
    "                               max= 10,\n",
    "                               step=1)\n",
    "           )\n"
   ]
  },
  {
   "cell_type": "code",
   "execution_count": 31,
   "metadata": {},
   "outputs": [],
   "source": [
    "def x6_re(t,f1,f2,X0):\n",
    "    return 4*X0*(f2-f1)/2*np.sinc(2*np.pi *(f2-f1)/2 *t)*np.cos(2* np.pi *(f1+f2)/2 *t)\n",
    "\n",
    "def x6_im(t,f1,f2,X0):\n",
    "    return 4*X0*(f2-f1)/2*np.sinc(2*np.pi *(f2-f1)/2 *t)*np.sin(2* np.pi *(f1+f2)/2 *t)\n"
   ]
  },
  {
   "cell_type": "code",
   "execution_count": 32,
   "metadata": {},
   "outputs": [
    {
     "data": {
      "application/vnd.jupyter.widget-view+json": {
       "model_id": "4204ba186e474d30893256bb95a86c96",
       "version_major": 2,
       "version_minor": 0
      },
      "text/plain": [
       "interactive(children=(FloatSlider(value=3.0, description='f1', max=5.0, min=1.0, step=1.0), FloatSlider(value=…"
      ]
     },
     "metadata": {},
     "output_type": "display_data"
    }
   ],
   "source": [
    "\n",
    "_ =interact(drawGraph,\n",
    "         xlabel=fixed(\"t\"),\n",
    "         ylabel=fixed(\"Re x_a(t)\"),\n",
    "         x=fixed(np.linspace(-2,2,1000)),\n",
    "         func=fixed(x6_re),\n",
    "         f1 = widgets.FloatSlider(value=3,\n",
    "                               min=1,\n",
    "                               max=5,\n",
    "                               step=1),\n",
    "         f2= widgets.FloatSlider(value=4,\n",
    "                               min=2,\n",
    "                               max= 6,\n",
    "                               step=1),\n",
    "         X0= widgets.FloatSlider(value=1,\n",
    "                               min=1,\n",
    "                               max= 10,\n",
    "                               step=1))"
   ]
  },
  {
   "cell_type": "code",
   "execution_count": 33,
   "metadata": {},
   "outputs": [
    {
     "data": {
      "application/vnd.jupyter.widget-view+json": {
       "model_id": "c2f5000b58d9469d8fb1fbbe391c91e1",
       "version_major": 2,
       "version_minor": 0
      },
      "text/plain": [
       "interactive(children=(FloatSlider(value=3.0, description='f1', max=5.0, min=1.0, step=1.0), FloatSlider(value=…"
      ]
     },
     "metadata": {},
     "output_type": "display_data"
    }
   ],
   "source": [
    "\n",
    "_ =interact(drawGraph,\n",
    "         xlabel=fixed(\"t\"),\n",
    "         ylabel=fixed(\"Im x_a(t)\"),\n",
    "         x=fixed(np.linspace(-2,2,1000)),\n",
    "         func=fixed(x6_im),\n",
    "         f1 = widgets.FloatSlider(value=3,\n",
    "                               min=1,\n",
    "                               max=5,\n",
    "                               step=1),\n",
    "         f2= widgets.FloatSlider(value=4,\n",
    "                               min=2,\n",
    "                               max= 6,\n",
    "                               step=1),\n",
    "         X0= widgets.FloatSlider(value=1,\n",
    "                               min=1,\n",
    "                               max= 10,\n",
    "                               step=1))"
   ]
  },
  {
   "cell_type": "markdown",
   "metadata": {},
   "source": [
    "# Задача № 7\n",
    "\n",
    "Дано:\n",
    "\n",
    "$x(t), x_Г(t)$\n",
    "\n",
    "Показать:\n",
    "\n",
    "$\\int_{-\\infty}^{\\infty}x(t)x_Г^*(t)dt =0$"
   ]
  },
  {
   "cell_type": "markdown",
   "metadata": {},
   "source": [
    "Равенство Парсеваля:\n",
    "\n",
    "$\\int_{-\\infty}^{\\infty}x(t)y^*(t)dt = \\int_{-\\infty}^{\\infty}X(f)Y^*(f)df $\n",
    "\n",
    "Тогда:\n",
    "\n",
    "$\\int_{-\\infty}^{\\infty}x(t)x_Г^*(t)dt = j \\int_{-\\infty}^{\\infty} |X(f)|^2 \\ \\text{sgn}(f)df = 0$"
   ]
  },
  {
   "cell_type": "code",
   "execution_count": null,
   "metadata": {},
   "outputs": [],
   "source": []
  }
 ],
 "metadata": {
  "kernelspec": {
   "display_name": "Python 3",
   "language": "python",
   "name": "python3"
  },
  "language_info": {
   "codemirror_mode": {
    "name": "ipython",
    "version": 3
   },
   "file_extension": ".py",
   "mimetype": "text/x-python",
   "name": "python",
   "nbconvert_exporter": "python",
   "pygments_lexer": "ipython3",
   "version": "3.6.5"
  }
 },
 "nbformat": 4,
 "nbformat_minor": 2
}
