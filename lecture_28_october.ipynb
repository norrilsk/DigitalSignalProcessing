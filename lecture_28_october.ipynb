{
 "cells": [
  {
   "cell_type": "markdown",
   "metadata": {},
   "source": [
    "Причастные к созданию;\n",
    "\n",
    "Шкобин   Ю.Г. (M01-902)\n",
    "\n",
    "Черноног В.В. (M01-906)\n",
    "\n",
    "Трусов   А.В  (M01-901)"
   ]
  },
  {
   "cell_type": "markdown",
   "metadata": {},
   "source": [
    "# Не самая насыщенная графиками работа :(\n"
   ]
  },
  {
   "cell_type": "code",
   "execution_count": 1,
   "metadata": {},
   "outputs": [],
   "source": [
    "import numpy as np\n",
    "import matplotlib.pyplot as plt\n",
    "from mpl_toolkits.mplot3d import Axes3D\n",
    "\n",
    "from ipywidgets import interact, interactive, fixed, interact_manual\n",
    "import ipywidgets as widgets\n",
    "\n",
    "csfont = {'fontname':'Helvetica'}\n",
    "import warnings\n",
    "warnings.filterwarnings('ignore')\n",
    "plt.rcParams[\"figure.figsize\"] = [16,9]\n"
   ]
  },
  {
   "cell_type": "markdown",
   "metadata": {},
   "source": [
    "# Задача №1"
   ]
  },
  {
   "cell_type": "markdown",
   "metadata": {},
   "source": [
    "Дано\n",
    "\n",
    "$x(k)$ - вещественный сигнал с полосой $2f_в = 10кГц$\n",
    "\n",
    "N = 1000\n",
    "\n",
    "$X(n) = \\sum\\limits_{k= 0}^{N-1}x(k)e^{-j\\dfrac{2\\pi}{N}nk}$\n",
    "\n",
    "$X(\\nu) = \\sum\\limits_{k= 0}^{N-1}x(k)e^{-j2\\pi\\nu k}$\n",
    "\n",
    "$n = \\overline{0,N-1}$\n",
    "\n",
    "$X(900) = 1B$\n",
    "\n",
    "$X(420) = 5B$\n",
    "\n",
    "Найти\n",
    "\n",
    "$X(\\nu) - ?$\n",
    "\n"
   ]
  },
  {
   "cell_type": "markdown",
   "metadata": {},
   "source": [
    "Тк сигнал дискретизуется, то в соответствии с теорией отсчетов\n",
    "$\\Delta t = \\dfrac{1}{2f_B}$\n",
    "\n",
    "$X(n) = \\sum\\limits_{k= 0}^{N-1}x(k)e^{-j\\dfrac{2\\pi}{N}nk}\n",
    "\\leftrightarrow\n",
    "x(k) = \\dfrac{1}{N}\\sum\\limits_{n= 0}^{N-1}X(n)e^{j\\dfrac{2\\pi}{N}n k}$\n",
    "\n",
    "$X(\\nu) = \\sum\\limits_{k= 0}^{N-1}x(k)e^{-j2\\pi\\nu k}\n",
    "\\leftrightarrow\n",
    "x(k) = \\int_{-\\dfrac{1}{2}}^{\\dfrac{1}{2}}X(\\nu)e^{j2\\pi\\nu k}d\\nu $\n",
    "\n",
    "\n",
    "Известно, что $X(\\nu)$ - периодична с периодом $T = 1$, по этому рассмотрим только полуинтервал $[0;1)$\n",
    "\n",
    "Определим связь между $X(\\nu) и X(n); считая, что рассматривается N точечная последовательность x(k)$\n",
    "\n",
    "$X(\\nu) = \\sum\\limits_{k= 0}^{N-1}\\left[ \\dfrac{1}{N}\\sum\\limits_{n= 0}^{N-1}X(n)e^{j\\dfrac{2\\pi}{N}nk}\\right]e^{-j2\\pi\\nu k} \n",
    "= \\dfrac{1}{N}\\sum\\limits_{n= 0}^{N-1}X(n)\\sum\\limits_{k= 0}^{N-1}e^{-j\\dfrac{2\\pi}{N}k\\left(N\\nu - n \\right)}$\n",
    "\n",
    "\n",
    "Видим геометрическую прогрессию с $b_1 = 1 , q = e^{-j\\dfrac{2\\pi}{N}k\\left(N\\nu - n \\right)}$\n",
    "\n",
    "$\\sum\\limits_{k= 0}^{N-1}e^{-j\\dfrac{2\\pi}{N}k\\left(N\\nu - n \\right)} = \\dfrac{1-e^{-j2\\pi k\\left(N\\nu - n \\right)}}{1-e^{-j\\dfrac{2\\pi}{N}k\\left(N\\nu - n \\right)}}\n",
    "=e^{-j\\pi\\left(\\nu - \\dfrac{n}{N}\\right)\\left( N-1\\right)} \\dfrac{\\sin(\\pi N\\left(\\nu - \\dfrac{n}{N}\\right))}{\\sin(\\pi \\left(\\nu - \\dfrac{n}{N}\\right))}\n",
    "$"
   ]
  },
  {
   "cell_type": "markdown",
   "metadata": {},
   "source": [
    "$X(\\nu) = \\dfrac{1}{N}\\sum\\limits_{n= 0}^{N-1}e^{-j\\pi\\left(\\nu - \\dfrac{n}{N}\\right)\\left( N-1\\right)} \\dfrac{\\sin(\\pi N\\left(\\nu - \\dfrac{n}{N}\\right))}{\\sin(\\pi \\left(\\nu - \\dfrac{n}{N}\\right))} $\n",
    "\n",
    "Однако при $\\nu = \\dfrac{k}{N}$\n",
    "\n",
    "$\\dfrac{\\sin(\\pi N\\left(\\nu - \\dfrac{n}{N}\\right))}{\\sin(\\pi \\left(\\nu - \\dfrac{n}{N}\\right))} = N \\mathbb{1}(n-k) $\n",
    "\n",
    "Тогда \n",
    "\n",
    "$X(\\nu) = X(k)$\n",
    "\n",
    "\n",
    "Так как сигнал x(t) - вещественный, то \n",
    "\n",
    "$X(n) = X^*(N-n)$\n",
    "\n",
    "В итоге получаем\n",
    "\n",
    "$X(100) = 1B =  X(\\nu = 0.1)= X(f=1кГц)$\n",
    "\n",
    "$X(420) = 1B =  X(\\nu = 0.42)= X(f=4,2кГц)$\n",
    "\n",
    "$X(580) = 1B =  X(\\nu = 0.58)= X(f=5,8кГц)$\n",
    "\n",
    "$X(900) = 1B =  X(\\nu = 0.9)= X(f=9кГц)$\n",
    "\n"
   ]
  },
  {
   "cell_type": "markdown",
   "metadata": {},
   "source": [
    "# Задача № 2\n",
    "\n",
    "\n",
    "\\begin{equation*}\n",
    "x(k) = \n",
    " \\begin{cases}\n",
    "   \\cos(\\dfrac{2\\pi}{N}rk) &  k = \\overline{0,N-1}  \\\\\n",
    "   0 &  else \n",
    " \\end{cases}\n",
    "\\end{equation*}\n",
    "\n",
    "r = 5\n",
    "\n",
    "N = 16\n",
    "\n",
    "Найти \n",
    "$X(n) - ?$\n",
    "\n",
    "$|X(n)| = ?$\n",
    "\n",
    "Решение  \n",
    "\n",
    "$X(N) =  \\dfrac{1}{N}\\sum\\limits_{k= 0}^{N-1}x(k)e^{-j\\dfrac{2\\pi}{N}rk}$\n",
    "\n",
    "\n",
    "$\\cos(\\dfrac{2\\pi}{N}rk) = \\dfrac{1}{2}\\left(e^{j\\dfrac{2\\pi}{N}rk} + e^{-j\\dfrac{2\\pi}{N}rk}\\right)$\n",
    "\n",
    "Получим сумму двух геом. прогрессий, посчитаем их отдельно\n",
    "\n",
    "$\\sum\\limits_{k= 0}^{N-1}e^{-j\\dfrac{2\\pi}{N}k\\left(n \\pm r \\right)} =\n",
    "e^{-j\\pi\\left(n \\pm r\\right)\\left( 1-\\dfrac{1}{N}\\right)} \\dfrac{\\sin(\\pi \\left(n \\pm  r\\right))}{\\sin(\\pi \\left(n \\pm r\\right))}\n",
    "$\n",
    "\n",
    "$|X(n)| = \\dfrac{1}{2N}\\left[ e^{-j\\pi\\left(n + r\\right)\\left( 1-\\dfrac{1}{N}\\right)} \\dfrac{\\sin(\\pi \\left(n +  r\\right))}{\\sin(\\pi \\left(n + r\\right))} + e^{-j\\pi\\left(n - r\\right)\\left( 1-\\dfrac{1}{N}\\right)} \\dfrac{\\sin(\\pi \\left(n -  r\\right))}{\\sin(\\pi \\left(n - r\\right))} \\right] $\n",
    "\n",
    "$|X(n)| = \\dfrac{1}{2N} \\sqrt{\\dfrac{\\sin^2(\\pi(n-r))}{\\sin^2(\\dfrac{\\pi}{N}(n-r))}  + \\dfrac{\\sin^2(\\pi(n+r))}{\\sin^2(\\dfrac{\\pi}{N}(n+r))} + 2\\cos(2\\pi r\\dfrac{N-1}{N})\\dfrac{\\cos(2\\pi r) - \\cos(2\\pi n)}{\\cos(\\dfrac{2\\pi r}{N})  - \\cos(\\dfrac{2 \\pi n}{N})}}$"
   ]
  },
  {
   "cell_type": "markdown",
   "metadata": {},
   "source": [
    "Заметим, что для $\\forall n$ $\\sin$ в числителе = 0, а в знаменателе только при  n = 5 и при n =11\n",
    "\n",
    "Значит \n",
    "X(n) = 0, ghb n = 0;1;2;3;4;6;7;8;9;10;12;13;14;15\n",
    "\n",
    "Вычислим\n",
    "\n",
    "$X(5) = \\dfrac{1}{2}$\n",
    "\n",
    "т.к x(k) - действ последовательность, то \n",
    "\n",
    "$X(n) = X^*(N-n)$\n",
    "\n",
    "то есть \n",
    "\n",
    "$X(11) = X^*(16-11) =X^*(5) = \\dfrac{1}{2} $\n",
    "\n",
    "$В итоге $\n",
    "\n",
    "$X(n) = \\dfrac{1}{2} при n =5;11$\n",
    "\n",
    "Т.к Отсчеты X(n) получились действительными и неотрицательными, то они совпадают с $|X(n)|$\n",
    "\n",
    "Изобразим $|X(n)|$"
   ]
  },
  {
   "cell_type": "code",
   "execution_count": 2,
   "metadata": {},
   "outputs": [
    {
     "data": {
      "image/png": "[encoded data removed]",
      "text/plain": [
       "<Figure size 432x288 with 1 Axes>"
      ]
     },
     "metadata": {},
     "output_type": "display_data"
    }
   ],
   "source": [
    "ax = plt.axes()\n",
    "ax.spines['left'].set_position('zero')\n",
    "ax.spines['bottom'].set_position('zero')\n",
    "ax.spines['top'].set_visible(False)\n",
    "ax.spines['right'].set_visible(False)\n",
    "plt.annotate('$n$', xy=(15,0.05),size=20)\n",
    "plt.annotate('$|X(n)|$', xy=(0.5,0.5),size=20)\n",
    "plt.scatter([5],[1/2],s=150,color='black')\n",
    "plt.scatter([11],[1/2],s=150,color='black')\n",
    "for i in range(0,16):\n",
    "    if (i != 5 and i !=11):\n",
    "        plt.scatter([i],[0],s=150,color='black')\n",
    "plt.plot([5,5],[0,1/2], color = 'green')\n",
    "plt.plot([11,11],[0,1/2], color = 'green')\n",
    "\n",
    "\n",
    "plt.show()"
   ]
  },
  {
   "cell_type": "markdown",
   "metadata": {},
   "source": [
    "В качестве дополнительного исследования приведём график $|X(n)|$, где $n$ --- непрерывный аргумент.\n",
    "\n",
    "https://www.desmos.com/calculator/r8w3lis7hk"
   ]
  },
  {
   "cell_type": "markdown",
   "metadata": {},
   "source": [
    "Вычислим ДПФ при помощи библиотеки numpy:"
   ]
  },
  {
   "cell_type": "code",
   "execution_count": 3,
   "metadata": {},
   "outputs": [],
   "source": [
    "x = []\n",
    "for i in range(16):\n",
    "    x.append(np.cos(2*np.pi*5*i/16))"
   ]
  },
  {
   "cell_type": "code",
   "execution_count": 4,
   "metadata": {},
   "outputs": [],
   "source": [
    "X = np.fft.fft(x, n = 16)"
   ]
  },
  {
   "cell_type": "code",
   "execution_count": 5,
   "metadata": {},
   "outputs": [],
   "source": [
    "Y = []\n",
    "for i in X:\n",
    "    Y.append(np.abs(i)/16)"
   ]
  },
  {
   "cell_type": "code",
   "execution_count": 6,
   "metadata": {},
   "outputs": [
    {
     "data": {
      "image/png": "[encoded data removed]",
      "text/plain": [
       "<Figure size 432x288 with 1 Axes>"
      ]
     },
     "metadata": {},
     "output_type": "display_data"
    }
   ],
   "source": [
    "ax = plt.axes()\n",
    "ax.spines['left'].set_position('zero')\n",
    "ax.spines['bottom'].set_position('zero')\n",
    "ax.spines['top'].set_visible(False)\n",
    "ax.spines['right'].set_visible(False)\n",
    "plt.annotate('$n$', xy=(15,0.05),size=20)\n",
    "plt.annotate('$|X(n)|$', xy=(0.5,0.5),size=20)\n",
    "for x,y in zip(range(len(Y)),Y):\n",
    "    plt.plot([x,x],[0,y], color = 'green')\n",
    "    plt.scatter([x],[y],s=150,color='red')\n",
    "#plt.scatter([11],[1/2],s=150,color='black')\n",
    "#plt.plot(range(16), Y, 'ro')"
   ]
  },
  {
   "cell_type": "markdown",
   "metadata": {},
   "source": [
    "Как видим, результат тот же."
   ]
  },
  {
   "cell_type": "markdown",
   "metadata": {},
   "source": [
    "# Задача № 3"
   ]
  },
  {
   "cell_type": "markdown",
   "metadata": {},
   "source": [
    "$X(n) = \\sum\\limits_{k= 0}^{11}x(k)e^{-j\\dfrac{2\\pi}{N}k n}$\n",
    "\n",
    "N = 12\n",
    "\n",
    "x(k) - действ последовательность\n",
    "\n",
    "X(0) = 10\n",
    "\n",
    "$X(1) = -5-4j$\n",
    "\n",
    "\n",
    "$X(2) = 3 - 2j$\n",
    "\n",
    "\n",
    "$X(3) = 1 +3j$\n",
    "\n",
    "$X(4) = 2 + 5j$\n",
    "\n",
    "$X(5) = 6 - 2j$\n",
    "\n",
    "$X(6) =12$\n",
    "\n",
    "Найти\n",
    "\n",
    "$x(0) - ?$ \n",
    "\n",
    "$x(6) - ?$ \n",
    "\n",
    "$\\sum\\limits_{k= 0}^{11}x(k) - ?$\n",
    "\n",
    "$\\sum\\limits_{k= 0}^{11}e^{j\\dfrac{2\\pi}{3}k}x(k) - ? $\n",
    "\n",
    "$\\sum\\limits_{k= 0}^{11}|x(k)|^2 - ?$"
   ]
  },
  {
   "cell_type": "markdown",
   "metadata": {},
   "source": [
    "$X(n) = \\sum\\limits_{k= 0}^{N-1}x(k)e^{-j\\dfrac{2\\pi}{N}nk}\n",
    "\\leftrightarrow\n",
    "x(k) = \\dfrac{1}{N}\\sum\\limits_{n= 0}^{N-1}X(n)e^{j\\dfrac{2\\pi}{N}n k}$\n"
   ]
  },
  {
   "cell_type": "markdown",
   "metadata": {},
   "source": [
    "т.к x(k) - действ последовательность, то \n",
    "\n",
    "$X(n) = X^*(N-n)$\n",
    "\n",
    "Значит \n",
    "\n",
    "$X(7) = 6+ 2j = X^*(5)$\n",
    "\n",
    "$X(8) =  2- 5j =X^*(4)$\n",
    "\n",
    "$X(9) = 1 - 3j = X^*(3)$\n",
    "\n",
    "$X(10) = 3 + 2j = X^*(2)$\n",
    "\n",
    "$X(11) = -5 + 4j = X^*(1)$\n"
   ]
  },
  {
   "cell_type": "markdown",
   "metadata": {},
   "source": [
    "Заметим\n",
    "\n",
    "$x(0) = \\dfrac{1}{N}\\sum\\limits_{n= 0}^{N-1}X(n) = \\dfrac{1}{12}\\sum\\limits_{n= 0}^{11}X(n)$\n",
    "\n",
    "$x(6) =\\dfrac{1}{N}\\sum\\limits_{n= 0}^{N-1}e^{j\\dfrac{2\\pi}{N}6n}X(n) =  \\dfrac{1}{12}\\sum\\limits_{n= 0}^{11}e^{j\\pi n}X(n)\n",
    "= \\dfrac{1}{12}\\sum\\limits_{n= 0}^{11}(-1)^nX(n)$\n",
    "\n",
    "$X(0) = \\sum\\limits_{n= 0}^{N-1}x(k) =\\sum\\limits_{n= 0}^{11}x(k)$\n",
    "\n",
    "$X(4) = \\sum\\limits_{n= 0}^{N-1}e^{-j\\dfrac{2\\pi}{N}4 k}x(k) = \\sum\\limits_{n= 0}^{11}e^{-j\\dfrac{2\\pi}{3}k}x(k) $\n",
    "\n",
    "Равенство парсеваля\n",
    "\n",
    "$\\sum\\limits_{n= 0}^{N-1}|X(n)|^2 = N \\sum\\limits_{n = 0}^{N-1}|x(k)|^2$\n",
    "\n",
    "тогда\n",
    "\n",
    "$\\sum\\limits_{n = 0}^{N-1}|x(k)|^2 = \\dfrac{1}{12} \\sum\\limits_{n = 0}^{N-1}|X(n)|^2$\n"
   ]
  },
  {
   "cell_type": "markdown",
   "metadata": {},
   "source": [
    "Ответ\n",
    "\n",
    "$x(0) = 3$ \n",
    "\n",
    "$x(6) = \\dfrac{7}{3}$ \n",
    "\n",
    "$\\sum\\limits_{k= 0}^{11}x(k) = 10$\n",
    "\n",
    "$\\sum\\limits_{k= 0}^{11}e^{j\\dfrac{2\\pi}{3}k}x(k) = 2 - 5j  = X^*(4) = X(8)$\n",
    "\n",
    "$\\sum\\limits_{k= 0}^{11}|x(k)|^2 = 42,5$"
   ]
  },
  {
   "cell_type": "markdown",
   "metadata": {},
   "source": [
    " Проверим Решение"
   ]
  },
  {
   "cell_type": "code",
   "execution_count": 7,
   "metadata": {},
   "outputs": [],
   "source": [
    "X = [10,-5 -4j,3-2j,1+3j,2 +5j,6-2j,12,6+2j,2-5j,1-3j,3+2j,-5+4j]"
   ]
  },
  {
   "cell_type": "code",
   "execution_count": 8,
   "metadata": {},
   "outputs": [],
   "source": [
    "x = np.fft.ifft(X)"
   ]
  },
  {
   "cell_type": "code",
   "execution_count": 9,
   "metadata": {},
   "outputs": [
    {
     "name": "stdout",
     "output_type": "stream",
     "text": [
      "[ 3.        +0.j -2.10405928+0.j  2.63237144+0.j  1.16666667+0.j\n",
      "  0.77831216+0.j  1.93739261+0.j  2.33333333+0.j  1.07136721+0.j\n",
      "  2.22168784+0.j -1.83333333+0.j  0.03429523+0.j -1.23803387+0.j]\n"
     ]
    }
   ],
   "source": [
    "print(x)"
   ]
  },
  {
   "cell_type": "markdown",
   "metadata": {},
   "source": [
    "$\\sum\\limits_{k= 0}^{11}x(k) = 10$"
   ]
  },
  {
   "cell_type": "code",
   "execution_count": 10,
   "metadata": {},
   "outputs": [
    {
     "name": "stdout",
     "output_type": "stream",
     "text": [
      "(9.999999999999998+0j)\n"
     ]
    }
   ],
   "source": [
    "sum1 = 0\n",
    "for xi in x:\n",
    "    sum1 = sum1 + xi\n",
    "print(sum1)"
   ]
  },
  {
   "cell_type": "markdown",
   "metadata": {},
   "source": [
    "$\\sum\\limits_{k= 0}^{11}e^{j\\dfrac{2\\pi}{3}k}x(k) = 2 - 5j $"
   ]
  },
  {
   "cell_type": "code",
   "execution_count": 11,
   "metadata": {},
   "outputs": [
    {
     "name": "stdout",
     "output_type": "stream",
     "text": [
      "(1.9999999999999951-4.999999999999994j)\n"
     ]
    }
   ],
   "source": [
    "sum2 = 0\n",
    "for i in range(0,12):\n",
    "    sum2 = sum2 + x[i]* np.exp(1.j*2*np.pi/3*i)\n",
    "print(sum2)"
   ]
  },
  {
   "cell_type": "markdown",
   "metadata": {},
   "source": [
    "$\\sum\\limits_{k= 0}^{11}|x(k)|^2 = 42,5$"
   ]
  },
  {
   "cell_type": "code",
   "execution_count": 12,
   "metadata": {},
   "outputs": [
    {
     "name": "stdout",
     "output_type": "stream",
     "text": [
      "(42.49999999999999+0j)\n"
     ]
    }
   ],
   "source": [
    "sum3 = 0\n",
    "for i in range(0,12):\n",
    "    sum3 = sum3 + x[i]*np.conj(x[i])\n",
    "print(sum3)"
   ]
  },
  {
   "cell_type": "code",
   "execution_count": null,
   "metadata": {},
   "outputs": [],
   "source": []
  },
  {
   "cell_type": "code",
   "execution_count": null,
   "metadata": {},
   "outputs": [],
   "source": []
  }
 ],
 "metadata": {
  "kernelspec": {
   "display_name": "Python 3",
   "language": "python",
   "name": "python3"
  },
  "language_info": {
   "codemirror_mode": {
    "name": "ipython",
    "version": 3
   },
   "file_extension": ".py",
   "mimetype": "text/x-python",
   "name": "python",
   "nbconvert_exporter": "python",
   "pygments_lexer": "ipython3",
   "version": "3.6.5"
  }
 },
 "nbformat": 4,
 "nbformat_minor": 2
}
