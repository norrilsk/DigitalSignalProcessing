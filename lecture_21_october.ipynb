{
 "cells": [
  {
   "cell_type": "markdown",
   "metadata": {},
   "source": [
    "Причастные к созданию;\n",
    "\n",
    "Шкобин   Ю.Г. (M01-902)\n",
    "\n",
    "Черноног В.В. (M01-906)\n",
    "\n",
    "Трусов   А.В  (M01-901)"
   ]
  },
  {
   "cell_type": "code",
   "execution_count": 1,
   "metadata": {},
   "outputs": [],
   "source": [
    "import numpy as np\n",
    "import matplotlib.pyplot as plt\n",
    "from mpl_toolkits.mplot3d import Axes3D\n",
    "\n",
    "from ipywidgets import interact, interactive, fixed, interact_manual\n",
    "import ipywidgets as widgets\n",
    "\n",
    "csfont = {'fontname':'Helvetica'}\n",
    "plt.rcParams[\"figure.figsize\"] = [16,9]\n",
    "import warnings\n",
    "warnings.filterwarnings('ignore')"
   ]
  },
  {
   "cell_type": "code",
   "execution_count": 2,
   "metadata": {},
   "outputs": [],
   "source": [
    "def drawGraph(x,func,xlabel=\"\", ylabel=\"\",**arg):\n",
    "    plt.plot(x, func(x,**arg))\n",
    "    ax = plt.gca()\n",
    "    ax.spines['left'].set_position('center')\n",
    "    ax.spines['bottom'].set_position('center')\n",
    "    ax.spines['top'].set_visible(False)\n",
    "    ax.spines['right'].set_visible(False)\n",
    "    plt.ylabel(xlabel,fontsize=20,labelpad=-200,rotation=0)\n",
    "    plt.xlabel(ylabel,fontsize=20,labelpad=-145,rotation=0)\n",
    "    plt.show()"
   ]
  },
  {
   "cell_type": "code",
   "execution_count": 3,
   "metadata": {},
   "outputs": [],
   "source": [
    "def drawGraphAbs(x,func,xlabel=\"\", ylabel=\"\",ylim=(0,1),**arg):\n",
    "    fx = func(x,**arg)\n",
    "    plt.plot(x, fx)\n",
    "    plt.xlim(x[0],x[-1])\n",
    "    plt.ylim(ylim)\n",
    "    ax = plt.gca()\n",
    "    ax.spines['left'].set_position('center')\n",
    "    ax.spines['bottom'].set_position('center')\n",
    "    ax.spines['top'].set_visible(False)\n",
    "    ax.spines['right'].set_visible(False)\n",
    "    ax.spines['left'].set_position('zero')\n",
    "    ax.spines['bottom'].set_position('zero')\n",
    "    plt.annotate(ylabel, xy=(0.2, ylim[1]),size=20)\n",
    "    plt.annotate(xlabel, xy=(np.max(x),0),size=20)\n",
    "    plt.show()"
   ]
  },
  {
   "cell_type": "code",
   "execution_count": 4,
   "metadata": {},
   "outputs": [],
   "source": [
    "def drawGraph3D(z,func,limits=1,xlabel=\"\", ylabel=\"\",zlabel =\"\",**arg):\n",
    "    fig = plt.figure()\n",
    "    ax = fig.gca(projection='3d')\n",
    "    xy = func(z,**arg)\n",
    "    x= np.real(xy)\n",
    "    y = np.imag(xy)\n",
    "    ax.plot(xs=x,ys=y,zs=z)\n",
    "    ax.set_xlabel(xlabel, fontsize=13)\n",
    "    ax.set_ylabel(ylabel, fontsize=13)\n",
    "    ax.set_zlabel(zlabel, fontsize=13)\n",
    "    ax.set_xlim(-limits,limits)\n",
    "    ax.set_ylim(-limits,limits)\n",
    "    plt.show()"
   ]
  },
  {
   "cell_type": "markdown",
   "metadata": {},
   "source": [
    "## Задача N1"
   ]
  },
  {
   "cell_type": "markdown",
   "metadata": {},
   "source": [
    "На входе широкополосный сигнал\n",
    "\n",
    "$f_д = 60 кГц$\n",
    "\n",
    "ФНЧ Баттерворта с $n = 4, f_0 =15кГц$\n",
    "\n",
    "Найти:\n",
    "\n",
    "1) $|X(f)|$\n",
    "\n",
    "2) уровень сигнала -?\n",
    "   уровень искажений от наложений -?\n",
    "   при $f = 15кГц$ и $\\dfrac{f_д}{2}$\n",
    "   \n",
    "3) $f_{д_{min}}$ - ?"
   ]
  },
  {
   "cell_type": "markdown",
   "metadata": {},
   "source": [
    "Изобразим модуль спектра широкополосного сигнала после фильтра"
   ]
  },
  {
   "cell_type": "code",
   "execution_count": 5,
   "metadata": {},
   "outputs": [],
   "source": [
    "def butter(nu,fd = 0, n = 4,copies=0): # n -- порядок фильтра \n",
    "    return np.sqrt(1./(nu**(2.* n) + 1.))\n",
    "def wide_1(nu): \n",
    "    tmp = [1]*len(nu);\n",
    "    return tmp\n",
    "\n",
    "def butter_f(f, fc, n = 4):\n",
    "    return butter(f/fc, n)"
   ]
  },
  {
   "cell_type": "code",
   "execution_count": 6,
   "metadata": {},
   "outputs": [
    {
     "data": {
      "application/vnd.jupyter.widget-view+json": {
       "model_id": "c40bb52dfdcb4434a54bfc6354cec8ef",
       "version_major": 2,
       "version_minor": 0
      },
      "text/plain": [
       "interactive(children=(IntSlider(value=4, description='n', max=10, min=1), Output()), _dom_classes=('widget-int…"
      ]
     },
     "metadata": {},
     "output_type": "display_data"
    }
   ],
   "source": [
    "_ =interact(drawGraphAbs,\n",
    "         xlabel=fixed(\"$\\dfrac{f}{f_c}$\"),\n",
    "         ylabel=fixed(\"$|X(f)|$\"),\n",
    "         x=fixed(np.linspace(-3,3,10000)),\n",
    "         func=fixed(butter),\n",
    "         ylim=fixed((0,1)),\n",
    "         n = widgets.IntSlider(value=4,\n",
    "                                   min=1,\n",
    "                                   max=10,\n",
    "                               step=1))\n"
   ]
  },
  {
   "cell_type": "markdown",
   "metadata": {},
   "source": [
    "Модуль спектра сигнала перед фильтром:"
   ]
  },
  {
   "cell_type": "code",
   "execution_count": 7,
   "metadata": {},
   "outputs": [
    {
     "data": {
      "image/png": "[encoded data removed]",
      "text/plain": [
       "<Figure size 432x288 with 1 Axes>"
      ]
     },
     "metadata": {},
     "output_type": "display_data"
    }
   ],
   "source": [
    "plt.plot(np.linspace(-3,3,1000), [1]*1000)\n",
    "ax = plt.gca()\n",
    "ax.spines['left'].set_position('center')\n",
    "ax.spines['bottom'].set_position('center')\n",
    "ax.spines['top'].set_visible(False)\n",
    "ax.spines['right'].set_visible(False)\n",
    "ax.spines['left'].set_position('zero')\n",
    "ax.spines['bottom'].set_position(('data',0.0))\n",
    "plt.xlim(-3,3)\n",
    "plt.ylim(0,2)\n",
    "xlabel=\"$\\dfrac{f}{f_c}$\"\n",
    "ylabel=\"$|X(f)|$\"\n",
    "plt.annotate(ylabel, xy=(0.2, 2),size=20)\n",
    "plt.annotate(xlabel, xy=(3,0),size=20)\n",
    "plt.show()"
   ]
  },
  {
   "cell_type": "markdown",
   "metadata": {},
   "source": [
    "Изобразим сигнал после дискретизации"
   ]
  },
  {
   "cell_type": "code",
   "execution_count": 8,
   "metadata": {},
   "outputs": [],
   "source": [
    "def drawGraphAbs1(x,func,func2,func3,func4, xlabel=\"\", ylabel=\"\",ylim=(0,1),**arg):\n",
    "    fx = func(x,**arg)\n",
    "    fx2 = func2(x,**arg)\n",
    "    fx3 = func3(x,**arg)\n",
    "    fx4 = func4(x,**arg)\n",
    "    plt.plot(x, fx)\n",
    "    plt.plot(x, fx2,color=\"red\",alpha=0.6)\n",
    "    plt.plot(x, fx3,color=\"red\",alpha=0.6)\n",
    "    plt.plot(x, fx4,color=\"red\",alpha=0.6)\n",
    "    plt.xlim(x[0],x[-1])\n",
    "    plt.ylim(ylim)\n",
    "    ax = plt.gca()\n",
    "    ax.spines['left'].set_position('center')\n",
    "    ax.spines['bottom'].set_position('center')\n",
    "    ax.spines['top'].set_visible(False)\n",
    "    ax.spines['right'].set_visible(False)\n",
    "    ax.spines['left'].set_position('zero')\n",
    "    ax.spines['bottom'].set_position('zero')\n",
    "    plt.annotate(ylabel, xy=(0.2, ylim[1]),size=20)\n",
    "    plt.annotate(xlabel, xy=(np.max(x),0),size=20)\n",
    "    plt.show()"
   ]
  },
  {
   "cell_type": "code",
   "execution_count": 9,
   "metadata": {},
   "outputs": [],
   "source": [
    "def butterr(nu,fd = 0, n = 4,copies=0): # n -- порядок фильтра \n",
    "    return np.sqrt(1./((nu-fd)**(2.* n) + 1.))\n",
    "def butterl(nu,fd = 0, n = 4,copies=0): # n -- порядок фильтра \n",
    "    return np.sqrt(1./((nu+fd)**(2.* n) + 1.))"
   ]
  },
  {
   "cell_type": "code",
   "execution_count": 10,
   "metadata": {},
   "outputs": [
    {
     "data": {
      "application/vnd.jupyter.widget-view+json": {
       "model_id": "905ed90fbd7445fdbb890621d8c87cfb",
       "version_major": 2,
       "version_minor": 0
      },
      "text/plain": [
       "interactive(children=(IntSlider(value=4, description='n', max=5, min=2), FloatSlider(value=4.0, description='f…"
      ]
     },
     "metadata": {},
     "output_type": "display_data"
    }
   ],
   "source": [
    "def butter_1_1(nu,fd = 3, n = 4,copies=10): # n -- порядок фильтра \n",
    "    tmp = np.sqrt(1./((nu)**(2.* n) + 1.))\n",
    "    for i in range(1,copies,1):\n",
    "        tmp = tmp + np.sqrt(1./((nu+i*fd)**(2.* n) + 1.))\n",
    "        tmp = tmp + np.sqrt(1./((nu-i*fd)**(2.* n) + 1.))\n",
    "    return tmp\n",
    "\n",
    "_ =interact(drawGraphAbs1,\n",
    "         xlabel=fixed(\"$\\dfrac{f}{f_c}$\"),\n",
    "         ylabel=fixed(\"$|X(f)|$\"),\n",
    "         x=fixed(np.linspace(-5,5,10000)),\n",
    "         ylim =fixed((0,1.5)),\n",
    "         func=fixed(butter_1_1),\n",
    "         func2=fixed(butter),\n",
    "         func3=fixed(butterr),\n",
    "         func4=fixed(butterl),   \n",
    "         n = widgets.IntSlider(value=4,\n",
    "                                   min=2,\n",
    "                                   max=5,\n",
    "                               step=1),\n",
    "         fd = widgets.FloatSlider(value=4,\n",
    "                                   min=1,\n",
    "                                   max=7,\n",
    "                               step=0.1),\n",
    "           copies = widgets.IntSlider(value=10,\n",
    "                                   min=1,\n",
    "                                   max=20,\n",
    "                               step=1))"
   ]
  },
  {
   "cell_type": "code",
   "execution_count": null,
   "metadata": {},
   "outputs": [],
   "source": []
  },
  {
   "cell_type": "code",
   "execution_count": 11,
   "metadata": {},
   "outputs": [],
   "source": [
    "def drawGraphAbs2(x,func,func2,xlabel=\"\", ylabel=\"\",ylim=(0,1),**arg):\n",
    "    t2 = func2\n",
    "    fx = func(x,**arg)\n",
    "    fx2 = func2(x,**arg)\n",
    "    plt.plot(x, fx)\n",
    "    plt.plot(x, fx2,color='red')\n",
    "    plt.xlim(x[0],x[-1])\n",
    "    plt.ylim(ylim)\n",
    "    ax = plt.gca()\n",
    "    ax.spines['left'].set_position('center')\n",
    "    ax.spines['bottom'].set_position('center')\n",
    "    ax.spines['top'].set_visible(False)\n",
    "    ax.spines['right'].set_visible(False)\n",
    "    ax.spines['left'].set_position('zero')\n",
    "    ax.spines['bottom'].set_position('zero')\n",
    "    plt.annotate(ylabel, xy=(0.2, ylim[1]),size=20)\n",
    "    plt.annotate(xlabel, xy=(np.max(x),0),size=20)\n",
    "    plt.show()"
   ]
  },
  {
   "cell_type": "markdown",
   "metadata": {},
   "source": [
    "Изобразим спектр сигнала на выходе Устройства выборки и хранения"
   ]
  },
  {
   "cell_type": "code",
   "execution_count": 12,
   "metadata": {},
   "outputs": [
    {
     "data": {
      "application/vnd.jupyter.widget-view+json": {
       "model_id": "91375a50130e45e994e53605cc851eb3",
       "version_major": 2,
       "version_minor": 0
      },
      "text/plain": [
       "interactive(children=(IntSlider(value=4, description='n', max=5, min=2), IntSlider(value=4, description='fd', …"
      ]
     },
     "metadata": {},
     "output_type": "display_data"
    }
   ],
   "source": [
    "def butter_1_2(nu,fd = 3, n = 4,copies=10): # n -- порядок фильтра \n",
    "    tmp = np.sqrt(1./((nu)**(2.* n) + 1.))\n",
    "    for i in range(1,copies,1):\n",
    "        tmp = tmp + np.sqrt(1./((nu+i*fd)**(2.* n) + 1.))\n",
    "        tmp = tmp + np.sqrt(1./((nu-i*fd)**(2.* n) + 1.))\n",
    "    uvh = np.sin(np.pi * nu/fd)/ (np.pi * nu/fd)\n",
    "    for i in range(1,copies,1):\n",
    "        uvh = uvh + np.sin(np.pi * (nu + 2*i*fd)/fd)/ (np.pi * (nu+ 2*i*fd)/fd)\n",
    "        uvh = uvh + np.sin(np.pi * (nu - 2*i*fd)/fd)/ (np.pi * (nu- 2*i*fd)/fd)\n",
    "    return tmp*uvh\n",
    "def uvh(nu,fd = 3, n = 4,copies=10):\n",
    "    uvh = np.sin(np.pi * nu/fd)/ (np.pi * nu/fd)\n",
    "    for i in range(1,copies,1):\n",
    "        uvh = uvh + np.sin(np.pi * (nu + 2*i*fd)/fd)/ (np.pi * (nu+ 2*i*fd)/fd)\n",
    "        uvh = uvh + np.sin(np.pi * (nu - 2*i*fd)/fd)/ (np.pi * (nu- 2*i*fd)/fd)\n",
    "    return uvh\n",
    "\n",
    "_ =interact(drawGraphAbs2,\n",
    "         xlabel=fixed(\"$\\dfrac{f}{f_c}$\"),\n",
    "         ylabel=fixed(\"$|X(f)|$\"),\n",
    "         x=fixed(np.linspace(-5,5,10000)),\n",
    "         ylim =fixed((0,1.5)),\n",
    "         func=fixed(butter_1_2),\n",
    "         func2=fixed(uvh),\n",
    "         n = widgets.IntSlider(value=4,\n",
    "                                   min=2,\n",
    "                                   max=5,\n",
    "                               step=1),\n",
    "         fd = widgets.IntSlider(value=4,\n",
    "                                   min=1,\n",
    "                                   max=7,\n",
    "                               step=1),\n",
    "           copies = widgets.IntSlider(value=10,\n",
    "                                   min=1,\n",
    "                                   max=20,\n",
    "                               step=1))"
   ]
  },
  {
   "cell_type": "markdown",
   "metadata": {},
   "source": [
    "#### Найдем требуемы уровни сигнала\n",
    "\n",
    "$|H(f)| = \\sqrt{\\dfrac{\\vphantom{I}1}{1 + \\left(\\dfrac{f}{f_c} \\right)^{2n} }} = \\sqrt{\\dfrac{\\vphantom{I}1}{1 + \\left(\\dfrac{f}{f_c} \\right)^{8} }} $\n",
    "\n",
    "$|H(15кГц)| = \\sqrt{\\dfrac{\\vphantom{I}1}{1 + \\left(\\dfrac{15}{15} \\right)^{8} }} =  \\dfrac{1}{\\sqrt{2}} \\approx 0,7071 (-3 Дб) $\n",
    "\n",
    "$|H(30кГц)| = \\sqrt{\\dfrac{\\vphantom{I}1}{1 + \\left(\\dfrac{30}{15} \\right)^{8} }} =  \\dfrac{1}{\\sqrt{257}} \\approx 0,062 (-24 Дб) $"
   ]
  },
  {
   "cell_type": "markdown",
   "metadata": {},
   "source": [
    "#### Найдем требуемые уровни искажения от наложения"
   ]
  },
  {
   "cell_type": "markdown",
   "metadata": {},
   "source": [
    "$|H_k(f)| = \\sqrt{\\dfrac{\\vphantom{I}1}{1 + \\left(\\dfrac{f - f_д}{f_c} \\right)^{2n} }} = \\sqrt{\\dfrac{\\vphantom{I}1}{1 + \\left(\\dfrac{f - f_д}{f_c} \\right)^{8} }} $\n",
    "\n",
    "$|H_k(15кГц)| = \\sqrt{\\dfrac{\\vphantom{I}1}{1 + \\left(\\dfrac{15 - 60}{15} \\right)^{8} }} =\\dfrac{1}{\\sqrt{6562}} \\approx 0,01234(-38Дб)  $ \n",
    "\n",
    "$|H_k(30кГц)| = \\sqrt{\\dfrac{\\vphantom{I}1}{1 + \\left(\\dfrac{30 - 60}{15} \\right)^{8} }} =\\dfrac{1}{\\sqrt{257}} \\approx 0,0628(-24Дб)  $ "
   ]
  },
  {
   "cell_type": "markdown",
   "metadata": {},
   "source": [
    "Уровень сигнала и уровень искажений от наложения совпадают на частоте Найквиста"
   ]
  },
  {
   "cell_type": "markdown",
   "metadata": {},
   "source": [
    "Запишем требование на $f_д$\n",
    "\n",
    "$|H(15кГц)| \\ge 10 |H_k(15кГц)| $\n",
    "\n",
    "$\\sqrt{\\frac{\\vphantom{I}1}{1 + \\left(\\dfrac{f}{f_c} \\right)^{8} }}\n",
    "\\ge\n",
    "\\sqrt{\\frac{\\vphantom{I}1}{1 + \\left(\\dfrac{f - f_д}{f_c} \\right)^{8} }}\n",
    "$\n",
    "\n",
    "\n",
    "$\\dfrac{1}{200}\n",
    "\\ge\n",
    "\\sqrt{\\frac{\\vphantom{I}1}{1 + \\left(1 -\\dfrac{f_д}{f_c} \\right)^{8} }}$\n",
    "\n",
    "$\n",
    "\\sqrt[8]{199} \\le  \\left| 1 - \\dfrac{f_д}{f_c}\\right|\n",
    "$\n",
    "\n",
    "$ f_д \\ge ( 1 + \\sqrt[8]{199})f_с$\n",
    "\n",
    "$f_{д_{min}} = (1 + \\sqrt[8]{199})f_c \\approx 44,07 кГц$"
   ]
  },
  {
   "cell_type": "markdown",
   "metadata": {},
   "source": [
    "# Задача №2\n"
   ]
  },
  {
   "cell_type": "markdown",
   "metadata": {},
   "source": [
    "Дано\n",
    "\n",
    "$f_c = 20Мгц$\n",
    "\n",
    "$В = 5Мгц$\n",
    "\n",
    "$f_{д_1} = 22,5Мгц$\n",
    "\n",
    "$f_{д_2} = 17,5Мгц$\n",
    "\n",
    "$f_{д_3} = 15Мгц$\n",
    "\n",
    "$f_{д_4} = 11,2Мгц$\n",
    "\n",
    "$f_{д_5} = 7,5Мгц$"
   ]
  },
  {
   "cell_type": "code",
   "execution_count": 13,
   "metadata": {},
   "outputs": [
    {
     "data": {
      "image/png": "[encoded data removed]",
      "text/plain": [
       "<Figure size 432x288 with 1 Axes>"
      ]
     },
     "metadata": {},
     "output_type": "display_data"
    }
   ],
   "source": [
    "def frac(x):\n",
    "    return x - x.astype(int) + (x < 0)\n",
    "def mod2(x):\n",
    "    return (x + (x < 0)).astype(int) % 2 \n",
    "def fup(x):\n",
    "    y = 3*(x+20)\n",
    "    return y* ( (x-2.5) < 0 ) * ((x+2.5) >0 )\n",
    "\n",
    "x = np.linspace(-30, 30, 10000)\n",
    "\n",
    "plt.fill_between(x, fup(x-20),hatch=\"/\", edgecolor=\"b\", linewidth=0.5,facecolor=\"green\",alpha =0.6)\n",
    "plt.fill_between(x, fup(-x-20),hatch=\"\\\\\", edgecolor=\"b\", linewidth=0.5,facecolor=\"red\",alpha =0.6)\n",
    "#plt.fill_between(x, fup(-x), step='mid',hatch=\"\\\\\")\n",
    "\n",
    "ax = plt.gca()\n",
    "ax.spines['left'].set_position('center')\n",
    "ax.spines['bottom'].set_position('center')\n",
    "ax.spines['top'].set_visible(False)\n",
    "ax.spines['right'].set_visible(False)\n",
    "ax.spines['left'].set_position('zero')\n",
    "ax.spines['bottom'].set_position(('data',0.0))\n",
    "ax.spines['top'].set_visible(False)\n",
    "ax.spines['right'].set_visible(False)\n",
    "plt.annotate(\"|X(f)|\", xy=(0.2, 70),size=20)\n",
    "plt.annotate(\"f, МГц\", xy=(np.max(x),0),size=20)\n",
    "plt.show()"
   ]
  },
  {
   "cell_type": "markdown",
   "metadata": {},
   "source": [
    "Найти\n",
    "\n",
    "$|X_д(f)|$\n",
    "\n",
    "обосновать выбор $f_{д_{min}}$\n",
    "\n",
    "\n",
    "\n",
    "Считаем, что исходный непрерывный чигннал действительный => модуль спектра четный\n",
    "\n",
    "$f_c$ находится посередине спектра\n",
    "\n",
    "Известно, что спектр размножается с частотой f_д при дискретизации\n",
    "Тогда изобразим спектры"
   ]
  },
  {
   "cell_type": "code",
   "execution_count": 14,
   "metadata": {},
   "outputs": [],
   "source": [
    "def drawGraph3(x,fd,**arg):\n",
    "    plt.fill_between(x, fup(x-20),hatch=\"/\", edgecolor=\"b\", linewidth=0.5,facecolor=\"green\",alpha =0.6)\n",
    "    plt.fill_between(x, fup(-x-20),hatch=\"\\\\\", edgecolor=\"b\", linewidth=0.5,facecolor=\"red\",alpha =0.6)\n",
    "    for i in range(1,10,1):\n",
    "        plt.fill_between(x, fup(x+i*fd-20),hatch=\"/\", edgecolor=\"b\", linewidth=0.5,facecolor=\"green\",alpha =0.6)\n",
    "        plt.fill_between(x, fup(-x-20+i*fd),hatch=\"\\\\\", edgecolor=\"b\", linewidth=0.5,facecolor=\"red\",alpha =0.6)\n",
    "        plt.fill_between(x, fup(x-i*fd-20),hatch=\"/\", edgecolor=\"b\", linewidth=0.5,facecolor=\"green\",alpha =0.6)\n",
    "        plt.fill_between(x, fup(-x-20-i*fd),hatch=\"\\\\\", edgecolor=\"b\", linewidth=0.5,facecolor=\"red\",alpha =0.6)\n",
    "    ax = plt.gca()\n",
    "    ax.spines['left'].set_position('center')\n",
    "    ax.spines['bottom'].set_position('center')\n",
    "    ax.spines['top'].set_visible(False)\n",
    "    ax.spines['right'].set_visible(False)\n",
    "    ax.spines['left'].set_position('zero')\n",
    "    ax.spines['bottom'].set_position(('data',0.0))\n",
    "    ax.spines['top'].set_visible(False)\n",
    "    ax.spines['right'].set_visible(False)\n",
    "    plt.annotate(\"|X(f)|\", xy=(0.2, 70),size=20)\n",
    "    plt.annotate(\"f,МГц\", xy=(np.max(x),0),size=20)\n",
    "    plt.show()\n",
    "    \n",
    "    \n",
    "\n"
   ]
  },
  {
   "cell_type": "code",
   "execution_count": 15,
   "metadata": {},
   "outputs": [
    {
     "data": {
      "application/vnd.jupyter.widget-view+json": {
       "model_id": "72654dc20a6840159b80b49860841e6a",
       "version_major": 2,
       "version_minor": 0
      },
      "text/plain": [
       "interactive(children=(FloatSlider(value=22.5, continuous_update=False, description='fd', max=30.0, min=5.0, st…"
      ]
     },
     "metadata": {},
     "output_type": "display_data"
    }
   ],
   "source": [
    "_ =interact(drawGraph3,\n",
    "         x=fixed(np.linspace(-30, 30, 10000)),\n",
    "         fd = widgets.FloatSlider(value=22.5,\n",
    "                                   min=5,\n",
    "                                   max=30,\n",
    "                               step=0.05,continuous_update=False))"
   ]
  },
  {
   "cell_type": "markdown",
   "metadata": {},
   "source": [
    "Т.к сигнал полосовой, то можно можно прибегнуть к субдискретизации\n",
    "\n",
    "тогда известно\n",
    "\n",
    "$f_д > \\dfrac{2f_c + B}{m+1}$\n",
    "\n",
    "где\n",
    "$m \\in \\mathbb{Z} $\n",
    "\n",
    "$m < \\dfrac{2f_c - \\dfrac{B}{2}}{B} = 3.5$\n",
    "\n",
    "Значит $m_{max} = 3$\n",
    "\n",
    "$f_{д_{min}} = \\dfrac{9}{4}B = 11,25 Мгц$"
   ]
  },
  {
   "cell_type": "markdown",
   "metadata": {},
   "source": [
    "# Задача №3\n"
   ]
  },
  {
   "cell_type": "markdown",
   "metadata": {},
   "source": [
    "Инверсия спектрна при дискретизации полос сигналов\n",
    "\n",
    "Спектр инвертируется при $(-1)^k$\n",
    "\n",
    "Решение:\n",
    "\n",
    "При Дискретизации сигналов возникает понятие основного спектра (первая зона Найквиста)  - это часть спектра дискретизованного сигнала в диапазоне $\\left[-\\dfrac{f_д}{2}; \\dfrac{f_д}{2} \\right]$\n",
    "\n",
    "В случае дискретизации действительный полосовых сигналов возникает понятие инверсии спектра. Как известно, спектр действительного сигнала обладает свойством \n",
    "\n",
    "$X(f) = X^*(-f)$\n",
    "\n",
    "а модкль спектра будет честной функцией, то етсь наблюдается симметрия для $X_{-}(f)$ и $X_{+}(f)$\n",
    "\n",
    "Инверсией спектра называется ситуация, когда при дискретезации действительного полосового сигнала поведение основного спектри при положительных частотах совпадает с поведением исходного спектра при отрицательных частотах"
   ]
  },
  {
   "cell_type": "markdown",
   "metadata": {},
   "source": [
    "#### в номере 2 инверсия наблюдается для $f_д = $ 22,5 Мгц и 11,25Мгц"
   ]
  },
  {
   "cell_type": "markdown",
   "metadata": {},
   "source": [
    "Так как частоты ДПФ с точностью до постоянного множителя являются значениями ДВПФ в дискретном наборе точек, то покажем инвертирование спектра ДВПФ действительной последовательности при домножении отсчетов на $(-1)^k$\n",
    "\n",
    "$(-1)^k = e^{j\\pi k}$\n",
    "\n",
    "$x(k) \\leftrightarrow X(\\nu)$\n",
    "\n",
    "$\\sum\\limits_{k=-\\infty}^{\\infty}x(k)e^{j\\pi k}e^{-j2\\pi\\nu k} \n",
    "=\\sum\\limits_{k=-\\infty}^{\\infty}x(k)e^{-j2\\pi\\left(\\nu-\\dfrac{1}{2}\\right) k}\n",
    "= X\\left(\\nu -\\dfrac{1}{2}\\right) $\n",
    "\n",
    "то есть исходный спектр сдвинулся на $\\dfrac{f_д}{2} \\left(\\nu = \\dfrac{1}{2}\\right)$\n",
    "\n",
    "Далее вспоминаем, что ДВПФ спектр - периодическая функция с периодом $f_д$ а спектр действительного сигнала - комплексно четная функция\n",
    "\n",
    "Значит, часть основного спектра с положительными частотами поменялась местами с частью отрицательных частот"
   ]
  },
  {
   "cell_type": "code",
   "execution_count": 16,
   "metadata": {},
   "outputs": [
    {
     "data": {
      "image/png": "[encoded data removed]",
      "text/plain": [
       "<Figure size 432x288 with 1 Axes>"
      ]
     },
     "metadata": {},
     "output_type": "display_data"
    }
   ],
   "source": [
    "def frac(x):\n",
    "    return x - x.astype(int) + (x < 0)\n",
    "def mod2(x):\n",
    "    return (x + (x < 0)).astype(int) % 2 \n",
    "def fup(x):\n",
    "    y = 3*(x+20)\n",
    "    return y* ( (x-2.5) < 0 ) * ((x+2.5) >0 )\n",
    "\n",
    "x = np.linspace(-30, 30, 10000)\n",
    "\n",
    "plt.fill_between(x, fup(x-20),hatch=\"/\", edgecolor=\"b\", linewidth=0.5,facecolor=\"green\",alpha =0.6)\n",
    "plt.fill_between(x, fup(-x-20),hatch=\"\\\\\", edgecolor=\"b\", linewidth=0.5,facecolor=\"red\",alpha =0.6)\n",
    "#plt.fill_between(x, fup(-x), step='mid',hatch=\"\\\\\")\n",
    "\n",
    "ax = plt.gca()\n",
    "ax.spines['left'].set_position('center')\n",
    "ax.spines['bottom'].set_position('center')\n",
    "ax.spines['top'].set_visible(False)\n",
    "ax.spines['right'].set_visible(False)\n",
    "ax.spines['left'].set_position('zero')\n",
    "ax.spines['bottom'].set_position(('data',0.0))\n",
    "ax.spines['top'].set_visible(False)\n",
    "ax.spines['right'].set_visible(False)\n",
    "plt.annotate(\"|X(f)|\", xy=(0.2, 70),size=20)\n",
    "plt.annotate(\"f,МГц\", xy=(np.max(x),0),size=20)\n",
    "plt.show()"
   ]
  },
  {
   "cell_type": "code",
   "execution_count": 17,
   "metadata": {},
   "outputs": [],
   "source": [
    "def drawGraph4(x,switch,**arg):\n",
    "    fd =15.5\n",
    "    if switch:\n",
    "        plt.fill_between(x, fup(x-20),hatch=\"/\", edgecolor=\"b\", linewidth=0.5,facecolor=\"green\",alpha =0.6)\n",
    "        plt.fill_between(x, fup(-x-20),hatch=\"\\\\\", edgecolor=\"b\", linewidth=0.5,facecolor=\"red\",alpha =0.6)\n",
    "        for i in range(1,10,1):\n",
    "            plt.fill_between(x, fup(x+i*fd-20),hatch=\"/\", edgecolor=\"b\", linewidth=0.5,facecolor=\"green\",alpha =0.6)\n",
    "            plt.fill_between(x, fup(-x-20+i*fd),hatch=\"\\\\\", edgecolor=\"b\", linewidth=0.5,facecolor=\"red\",alpha =0.6)\n",
    "            plt.fill_between(x, fup(x-i*fd-20),hatch=\"/\", edgecolor=\"b\", linewidth=0.5,facecolor=\"green\",alpha =0.6)\n",
    "            plt.fill_between(x, fup(-x-20-i*fd),hatch=\"\\\\\", edgecolor=\"b\", linewidth=0.5,facecolor=\"red\",alpha =0.6)\n",
    "    else:\n",
    "        plt.fill_between(x, fup(x-20+fd/2),hatch=\"/\", edgecolor=\"b\", linewidth=0.5,facecolor=\"green\",alpha =0.6)\n",
    "        plt.fill_between(x, fup(-x-20-fd/2),hatch=\"\\\\\", edgecolor=\"b\", linewidth=0.5,facecolor=\"red\",alpha =0.6)\n",
    "        for i in range(1,10,1):\n",
    "            plt.fill_between(x, fup(x+i*fd-20+fd/2),hatch=\"/\", edgecolor=\"b\", linewidth=0.5,facecolor=\"green\",alpha =0.6)\n",
    "            plt.fill_between(x, fup(-x-20+i*fd-fd/2),hatch=\"\\\\\", edgecolor=\"b\", linewidth=0.5,facecolor=\"red\",alpha =0.6)\n",
    "            plt.fill_between(x, fup(x-i*fd-20+fd/2),hatch=\"/\", edgecolor=\"b\", linewidth=0.5,facecolor=\"green\",alpha =0.6)\n",
    "            plt.fill_between(x, fup(-x-20-i*fd-fd/2),hatch=\"\\\\\", edgecolor=\"b\", linewidth=0.5,facecolor=\"red\",alpha =0.6)\n",
    "            pass\n",
    "    ax = plt.gca()\n",
    "    ax.spines['left'].set_position('center')\n",
    "    ax.spines['bottom'].set_position('center')\n",
    "    ax.spines['top'].set_visible(False)\n",
    "    ax.spines['right'].set_visible(False)\n",
    "    ax.spines['left'].set_position('zero')\n",
    "    ax.spines['bottom'].set_position(('data',0.0))\n",
    "    ax.spines['top'].set_visible(False)\n",
    "    ax.spines['right'].set_visible(False)\n",
    "    plt.annotate(\"|X(f)|\", xy=(0.2, 70),size=20)\n",
    "    plt.annotate(\"f,МГц\", xy=(np.max(x),0),size=20)\n",
    "    plt.show()\n",
    "    \n",
    "    "
   ]
  },
  {
   "cell_type": "markdown",
   "metadata": {},
   "source": [
    "Можем пронаблюдать инверсию спектра"
   ]
  },
  {
   "cell_type": "code",
   "execution_count": 18,
   "metadata": {},
   "outputs": [
    {
     "data": {
      "application/vnd.jupyter.widget-view+json": {
       "model_id": "d899b589715145cba7ca6933530a2304",
       "version_major": 2,
       "version_minor": 0
      },
      "text/plain": [
       "interactive(children=(IntSlider(value=0, description='switch', max=1), Output()), _dom_classes=('widget-intera…"
      ]
     },
     "metadata": {},
     "output_type": "display_data"
    }
   ],
   "source": [
    "_ =interact(drawGraph4,\n",
    "         x=fixed(np.linspace(-30, 30, 10000)),\n",
    "         switch = widgets.IntSlider(value=0,\n",
    "                                   min=0,\n",
    "                                   max=1,\n",
    "                               step=1))"
   ]
  },
  {
   "cell_type": "code",
   "execution_count": null,
   "metadata": {},
   "outputs": [],
   "source": []
  }
 ],
 "metadata": {
  "kernelspec": {
   "display_name": "Python 3",
   "language": "python",
   "name": "python3"
  },
  "language_info": {
   "codemirror_mode": {
    "name": "ipython",
    "version": 3
   },
   "file_extension": ".py",
   "mimetype": "text/x-python",
   "name": "python",
   "nbconvert_exporter": "python",
   "pygments_lexer": "ipython3",
   "version": "3.6.5"
  }
 },
 "nbformat": 4,
 "nbformat_minor": 2
}
