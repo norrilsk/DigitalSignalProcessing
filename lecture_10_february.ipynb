{
 "cells": [
  {
   "cell_type": "markdown",
   "metadata": {},
   "source": [
    "Причастные к созданию:\n",
    "\n",
    "Шкобин Ю.Г. (M01-902)\n",
    "\n",
    "Черноног В.В. (M01-906)\n",
    "\n",
    "Трусов А.В (M01-901)"
   ]
  },
  {
   "cell_type": "code",
   "execution_count": 93,
   "metadata": {},
   "outputs": [],
   "source": [
    "import numpy as np\n",
    "import matplotlib.pyplot as plt\n",
    "from mpl_toolkits.mplot3d import Axes3D\n",
    "from matplotlib import cm\n",
    "\n",
    "from ipywidgets import interact, interactive, fixed, interact_manual\n",
    "import ipywidgets as widgets\n",
    "\n",
    "csfont = {'fontname':'Helvetica'}\n",
    "import warnings\n",
    "warnings.filterwarnings('ignore')\n",
    "plt.rcParams[\"figure.figsize\"] = [16,9]"
   ]
  },
  {
   "cell_type": "code",
   "execution_count": 32,
   "metadata": {},
   "outputs": [],
   "source": [
    "def drawGraph(x,func,xlabel=\"\", ylabel=\"\",**arg):\n",
    "    plt.plot(x, func(x,**arg))\n",
    "    ax = plt.gca()\n",
    "    ax.spines['left'].set_position('center')\n",
    "    ax.spines['bottom'].set_position('center')\n",
    "    ax.spines['top'].set_visible(False)\n",
    "    ax.spines['right'].set_visible(False)\n",
    "    plt.ylabel(xlabel,fontsize=20,labelpad=-200,rotation=0)\n",
    "    plt.xlabel(ylabel,fontsize=20,labelpad=-145,rotation=0)\n",
    "    plt.show()"
   ]
  },
  {
   "cell_type": "code",
   "execution_count": 33,
   "metadata": {},
   "outputs": [],
   "source": [
    "def drawGraph3D(z,func,limits=1,xlabel=\"\", ylabel=\"\",zlabel =\"\",**arg):\n",
    "    fig = plt.figure()\n",
    "    ax = fig.gca(projection='3d')\n",
    "    xy = func(z,**arg)\n",
    "    x= np.real(xy)\n",
    "    y = np.imag(xy)\n",
    "    ax.plot(xs=x,ys=y,zs=z)\n",
    "    ax.set_xlabel(xlabel, fontsize=13)\n",
    "    ax.set_ylabel(ylabel, fontsize=13)\n",
    "    ax.set_zlabel(zlabel, fontsize=13)\n",
    "    ax.set_xlim(-limits,limits)\n",
    "    ax.set_ylim(-limits,limits)\n",
    "    plt.show()"
   ]
  },
  {
   "cell_type": "code",
   "execution_count": 100,
   "metadata": {},
   "outputs": [],
   "source": []
  },
  {
   "cell_type": "markdown",
   "metadata": {},
   "source": [
    "# Задача №1\n"
   ]
  },
  {
   "cell_type": "markdown",
   "metadata": {},
   "source": [
    "Дано:\n",
    "\n",
    "$$x(k) = \\exp(p_0 k \\Delta t), k \\geq 0,   p_0 = \\beta_0 + j \\omega_0$$\n",
    "\n",
    "Найти:\n",
    "\n",
    "&nbsp;&nbsp; а) Полюс $X(z)$\n",
    "\n",
    "&nbsp;&nbsp; б) При каких условиях полюс будет внутри единичного круга?\n",
    "\n",
    "&nbsp;&nbsp; в) Что показывает модуль полюса?\n",
    "\n",
    "&nbsp;&nbsp; г)  Зависит ли положение полюса от выбора шага дискретизации $\\Delta t$?\n",
    "\n",
    "&nbsp;&nbsp; д)   Объяснить связь положения полюсов с соответствующими экспонентами, которая иллюстрируется на рисунке."
   ]
  },
  {
   "cell_type": "markdown",
   "metadata": {},
   "source": [
    "По определению:\n",
    "\n",
    "\\begin{equation}\n",
    "X(z) = \\Delta t \\sum^{\\infty}_{k = 0} x (k) z ^{-k} = \\Delta t \\sum^{\\infty}_{k = 0} e ^{p_0 k \\Delta t} z ^{-k} = \\Delta t \\sum^{\\infty}_{k = 0} \\big(e ^{p_0 \\Delta t} z ^{-1}\\big)^k = \\frac{\\Delta t}{1 - e ^{p_0 \\Delta t} z ^{-1}}\n",
    "\\tag{1}\n",
    "\\end{equation}"
   ]
  },
  {
   "cell_type": "markdown",
   "metadata": {},
   "source": [
    "Тогда полюс:\n",
    "\n",
    "\\begin{equation}\n",
    " z_0 =  e ^{p_0 \\Delta t} = e ^{\\beta_0 \\Delta t+ j \\omega_0 \\Delta t}\n",
    " \\tag{2}\n",
    "\\end{equation}"
   ]
  },
  {
   "cell_type": "code",
   "execution_count": 71,
   "metadata": {},
   "outputs": [],
   "source": [
    "def drawPole(beta, dt, omega,xlabel=\"\", ylabel=\"\",**arg):\n",
    "    p0 = beta + 1.j*omega\n",
    "    pz = np.exp(p0*dt)\n",
    "    px = np.real(pz)\n",
    "    py = np.imag(pz)\n",
    "    x = np.sin(np.linspace(-3.1416, 3.1416, 100))\n",
    "    y = np.cos(np.linspace(-3.1416, 3.1416, 100))\n",
    "    plt.plot(x, y)\n",
    "    plt.plot(px, py, 'rx', markersize=40)\n",
    "    ax = plt.gca()\n",
    "    ax.axis('equal')\n",
    "    ax.spines['left'].set_position('center')\n",
    "    ax.spines['bottom'].set_position('center')\n",
    "    ax.spines['top'].set_visible(False)\n",
    "    ax.spines['right'].set_visible(False)\n",
    "    plt.annotate(xlabel, xy=(1.9,0.05),size=20)\n",
    "    plt.annotate(ylabel, xy=(0.1,1),size=20)\n",
    "    plt.show()\n",
    "    k = np.linspace(0, 6, 500)\n",
    "    xk = np.real(np.exp(p0 *dt * k))\n",
    "    plt.plot(k, xk)\n",
    "    ax = plt.gca()\n",
    "    ax.spines['left'].set_position( ('data', 0.0))\n",
    "    ax.spines['bottom'].set_position( ('data', 0.0))\n",
    "    ax.spines['top'].set_visible(False)\n",
    "    ax.spines['right'].set_visible(False)\n",
    "    plt.annotate('k', xy=(5.95,0.05),size=20)\n",
    "    plt.annotate('$x(k)$', xy=(0.1,np.max(xk)+0.05),size=20)\n",
    "    for k in range(6):\n",
    "        xk = np.real(np.exp(p0 *dt * k))\n",
    "        plt.plot([k, k], [0, xk], 'b')\n",
    "        plt.plot([k], [xk], 'ob',  markersize=10)\n",
    "    plt.show()\n",
    "    "
   ]
  },
  {
   "cell_type": "code",
   "execution_count": 72,
   "metadata": {},
   "outputs": [
    {
     "data": {
      "application/vnd.jupyter.widget-view+json": {
       "model_id": "458199340b5245fe9755d7fd3875bb72",
       "version_major": 2,
       "version_minor": 0
      },
      "text/plain": [
       "interactive(children=(FloatSlider(value=0.0, continuous_update=False, description='beta', max=20.0, min=-20.0,…"
      ]
     },
     "metadata": {},
     "output_type": "display_data"
    }
   ],
   "source": [
    "_ =interact(drawPole,\n",
    "         xlabel=fixed(\"Re$(z_0)$\"),\n",
    "         ylabel=fixed(\"Im$(z_0)$\"),\n",
    "         beta = widgets.FloatSlider(value=0, min=-20, max=20, \n",
    "                                    step=0.2,continuous_update=False),\n",
    "         omega = widgets.FloatSlider(value=0, min=-20, max=20, \n",
    "                                     step=0.2,continuous_update=False),\n",
    "         dt = widgets.FloatSlider(value=.1, min=0, max=1, \n",
    "                                  step=0.02, continuous_update=False),\n",
    "        )\n"
   ]
  },
  {
   "cell_type": "markdown",
   "metadata": {},
   "source": [
    "Полюс будет внутри единичного круга если:\n",
    "\n",
    "$$ |z_0| < 1  $$\n",
    " \n",
    "$$ |e ^{\\beta_0 \\Delta t} e ^{j \\omega_0 \\Delta t}|  < 1 $$\n",
    "\n",
    "$$ \\beta_0 \\Delta t < 0  $$\n",
    "\n",
    "$$ \\beta_0  < 0 $$"
   ]
  },
  {
   "cell_type": "markdown",
   "metadata": {},
   "source": [
    "Модуль полюса:\n",
    "\n",
    "$$ |z_0| = e^{\\beta_0 \\Delta t} $$\n",
    "\n",
    "Заметим что,\n",
    "\n",
    "$$ x(k) = e^{\\beta_0 \\Delta t k} e^{j \\omega_0 \\Delta t k} $$\n",
    "\n",
    "Т.е. с каждым тактом модуль $x(k)$ изменяется в  $|z_0|$ раз\n",
    "\n",
    "Из $(2)$ очевидна зависимость положения полюса от $\\Delta t$ (см. график)"
   ]
  },
  {
   "cell_type": "markdown",
   "metadata": {},
   "source": [
    "# Задача №2"
   ]
  },
  {
   "cell_type": "markdown",
   "metadata": {},
   "source": [
    "Дано:\n",
    "\n",
    "\n",
    "$$X(z) = \\dfrac{1}{(1-az^{-1})(1-bz^{-1})}$$\n",
    "\n",
    "\n",
    "Найти:\n",
    "$$x(k) - ?$$\n",
    "\n",
    "\n"
   ]
  },
  {
   "cell_type": "markdown",
   "metadata": {},
   "source": [
    "Решение:\n",
    "\n",
    "Разложим $X(z)$ на простые дроби:\n",
    "\n",
    "\n",
    "$$X(z) = \\dfrac{A}{1-az^{-1}} +  \\dfrac{B}{1-bz^{-1}}$$\n",
    "\n",
    "\n",
    "$$A = \\left.\\dfrac{1-az^{-1}}{(1-az^{-1})(1-bz^{-1})}\\right|_{z=a} = \\dfrac{a}{a -b}$$\n",
    "\n",
    "$$A = \\left.\\dfrac{1-bz^{-1}}{(1-az^{-1})(1-bz^{-1})}\\right|_{z=a} = \\dfrac{b}{b -a}$$\n",
    "\n",
    "Известно:\n",
    "\n",
    "$$\\dfrac{1}{1-az^{-1}}  \\leftrightarrow a^k, k\\geq0$$\n",
    "\n",
    "\n",
    "Тогда в силу линейности\n",
    "\n",
    "\\begin{equation*}\n",
    "X(k) = \n",
    " \\begin{cases}\n",
    "   \\dfrac{a^{k+1} - b^{k+1}}{a-b} &  k \\geq 0  \\\\\n",
    "   0 &  k < 0 \n",
    " \\end{cases}\n",
    "\\end{equation*}\n"
   ]
  },
  {
   "cell_type": "markdown",
   "metadata": {},
   "source": [
    "при $a = \\dfrac{1 +j}{2}$ и  $b = a^* $\n",
    "\n",
    "\n",
    "$$x(k)=\\dfrac{\\left(\\dfrac{1}{\\sqrt{2}}\\right)^{k+1}\\left(e^{j\\dfrac{\\pi}{4}(k+1)} - e^{-j\\dfrac{\\pi}{4}(k+1)}\\right)}{\\dfrac{1}{2}\\left(1 + j -1 +j\\right)} = 2^{.^{\\left(\\frac{1 - k}{2}\\right)}}  \\sin{\\left[\\dfrac{\\pi}{4}(k+1)\\right]}$$"
   ]
  },
  {
   "cell_type": "code",
   "execution_count": 109,
   "metadata": {},
   "outputs": [],
   "source": [
    "def drawSurface3D(x,y,func,func_temp,z_limit=1,xlabel=\"\", ylabel=\"\",zlabel =\"\",**arg):\n",
    "    fig = plt.figure()\n",
    "    ax = plt.axes(projection='3d')\n",
    "    X, Y = np.meshgrid(x,y);\n",
    "    z = X+ 1.j*Y\n",
    "    f_z = np.real(func(z,**arg))\n",
    "    t = np.real(func_temp(z,**arg))\n",
    "    #t = t - np.min(t)\n",
    "    #t = t/np.max(t)\n",
    "    ax.plot_surface(X, Y, f_z, facecolors=cm.coolwarm(t))\n",
    "    #ax.plot_trisurf(np.real(z), np.imag(z), f_z, edgecolor='none',facecolors=cm.coolwarm(f_z))\n",
    "    ax.set_xlabel(xlabel, fontsize=13)\n",
    "    ax.set_ylabel(ylabel, fontsize=13)\n",
    "    ax.set_zlabel(zlabel, fontsize=13)\n",
    "    ax.set_zlim(np.min(f_z),z_limit)\n",
    "    plt.show()"
   ]
  },
  {
   "cell_type": "code",
   "execution_count": 114,
   "metadata": {},
   "outputs": [],
   "source": [
    "def X_z_2_Abs(z,a_real,a_img,b_real,b_img):\n",
    "    a = a_real + 1.j*a_img\n",
    "    b = b_real + 1.j*b_img\n",
    "    return np.abs(1/((1-a/z)*(1-b/z)))\n",
    "\n",
    "def X_z_2_phase(z,a_real,a_img,b_real,b_img):\n",
    "    a = a_real + 1.j*a_img\n",
    "    b = b_real + 1.j*b_img\n",
    "    res = 1/((1-a/z)*(1-b/z))\n",
    "    return np.arctan2(np.real(res),np.imag(res))/(2*np.pi) +0.5"
   ]
  },
  {
   "cell_type": "code",
   "execution_count": 117,
   "metadata": {},
   "outputs": [
    {
     "data": {
      "application/vnd.jupyter.widget-view+json": {
       "model_id": "3518470f1e1a4a8bb2f282d9f9cc93c4",
       "version_major": 2,
       "version_minor": 0
      },
      "text/plain": [
       "interactive(children=(IntSlider(value=7, continuous_update=False, description='z_limit', max=10, min=1), Float…"
      ]
     },
     "metadata": {},
     "output_type": "display_data"
    }
   ],
   "source": [
    "\n",
    "_ =interact(drawSurface3D,\n",
    "            zlabel=fixed(\"$|X(z)|$\"),\n",
    "            ylabel=fixed(\"Im$(z)$\"),\n",
    "            xlabel=fixed(\"Re$(z)$\"),\n",
    "            x = fixed(np.linspace(-0.5,1.5,200)),\n",
    "            y = fixed(np.linspace(-0.5,1.5,200)),\n",
    "            func = fixed(X_z_2_Abs),\n",
    "            func_temp = fixed(X_z_2_phase),\n",
    "            a_real = widgets.FloatSlider(value=0.5, min=-1, max=1, \n",
    "                                    step=0.1,continuous_update=False),\n",
    "            a_img = widgets.FloatSlider(value=0.5, min=-1, max=1, \n",
    "                                    step=0.1,continuous_update=False),\n",
    "            \n",
    "            b_real = widgets.FloatSlider(value=0.5, min=-1, max=1, \n",
    "                                    step=0.1,continuous_update=False),\n",
    "            \n",
    "            b_img = widgets.FloatSlider(value=-0.5, min=-1, max=1, \n",
    "                                    step=0.1,continuous_update=False),\n",
    "            z_limit = widgets.IntSlider(value=7, min=1, max=10, \n",
    "                                    step=1,continuous_update=False),\n",
    "        )"
   ]
  },
  {
   "cell_type": "markdown",
   "metadata": {},
   "source": [
    "# Задача №3"
   ]
  },
  {
   "cell_type": "markdown",
   "metadata": {},
   "source": [
    "Дано:\n",
    "\n",
    "$$X(z) = \\dfrac{z^2+2z +1}{z}$$\n",
    "\n",
    "Найти:\n",
    "\n",
    "$$x(k) = ?$$\n",
    "\n",
    "Решение:\n",
    "\n",
    "$$X(z) = z +2 + \\dfrac{1}{z}$$\n",
    "\n",
    "\n",
    "Известно,что\n",
    "\n",
    "$$1 \\leftrightarrow  \\mathbb{1}(k)$$\n",
    "\n",
    "По теореме запаздывания\n",
    "$$x(k-m) \\leftrightarrow z^{-m} X(z)$$\n",
    "\n",
    "$$x(k) = \\mathbb{1}(k+1) + 2\\cdot\\mathbb{1}(k) + \\mathbb{1}(k-1)$$"
   ]
  },
  {
   "cell_type": "code",
   "execution_count": 125,
   "metadata": {},
   "outputs": [
    {
     "data": {
      "image/png": "[encoded data removed]",
      "text/plain": [
       "<Figure size 1152x648 with 1 Axes>"
      ]
     },
     "metadata": {},
     "output_type": "display_data"
    }
   ],
   "source": [
    "ax = plt.axes()\n",
    "ax.spines['left'].set_position('zero')\n",
    "ax.spines['bottom'].set_position('zero')\n",
    "ax.spines['top'].set_visible(False)\n",
    "ax.spines['right'].set_visible(False)\n",
    "plt.annotate('$k$', xy=(3,0.05),size=20)\n",
    "plt.annotate('$|X(k)|$', xy=(0.1,1.9),size=20)\n",
    "plt.plot([-1,-1],[0,1], color = 'green')\n",
    "plt.plot([0,0],[0,2], color = 'green')\n",
    "plt.plot([1,1],[0,1], color = 'green')\n",
    "plt.scatter([-3,-2,-1,0,1,2,3],[0,0,1,2,1,0,0],s=150,color='black')\n",
    "\n",
    "\n",
    "\n",
    "\n",
    "\n",
    "plt.show()"
   ]
  },
  {
   "cell_type": "code",
   "execution_count": null,
   "metadata": {},
   "outputs": [],
   "source": []
  }
 ],
 "metadata": {
  "kernelspec": {
   "display_name": "Python 3",
   "language": "python",
   "name": "python3"
  },
  "language_info": {
   "codemirror_mode": {
    "name": "ipython",
    "version": 3
   },
   "file_extension": ".py",
   "mimetype": "text/x-python",
   "name": "python",
   "nbconvert_exporter": "python",
   "pygments_lexer": "ipython3",
   "version": "3.6.5"
  }
 },
 "nbformat": 4,
 "nbformat_minor": 2
}
